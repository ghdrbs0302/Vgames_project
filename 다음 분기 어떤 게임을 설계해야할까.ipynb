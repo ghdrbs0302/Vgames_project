{
  "nbformat": 4,
  "nbformat_minor": 0,
  "metadata": {
    "colab": {
      "name": "Colaboratory에 오신 것을 환영합니다",
      "provenance": [],
      "collapsed_sections": []
    },
    "kernelspec": {
      "display_name": "Python 3",
      "name": "python3"
    }
  },
  "cells": [
    {
      "cell_type": "markdown",
      "metadata": {
        "id": "EqFC3iyHICva"
      },
      "source": [
        "**파일업로드 하기** "
      ]
    },
    {
      "cell_type": "code",
      "metadata": {
        "id": "i2mDgAjPBuJY"
      },
      "source": [
        "#파일 직접 업로드하기\n",
        "#from google.colab import files\n",
        "#myfile = files.upload()\n",
        "\n",
        "#df = pd.read_csv(io.BytesIO(myfile['vgames2.csv']), encoding = 'utf-8')   # encoding인자에 한글 전용 인코딩 방식"
      ],
      "execution_count": 1,
      "outputs": []
    },
    {
      "cell_type": "markdown",
      "metadata": {
        "id": "GvuLYc3NILVL"
      },
      "source": [
        "**라이브러리 및 데이터 불러오기**\n",
        "\n"
      ]
    },
    {
      "cell_type": "code",
      "metadata": {
        "id": "aqMnXK-7BRAv"
      },
      "source": [
        "#라이브러리 불러오기 \n",
        "import pandas as pd\n",
        "import numpy as np\n",
        "import matplotlib.pyplot as plt\n",
        "import seaborn as sns\n",
        "import os\n",
        "import plotly.express as px\n",
        "import warnings\n",
        "warnings.filterwarnings('ignore')\n",
        "\n",
        "#read data as df\n",
        "df = pd.read_csv('https://ds-lecture-data.s3.ap-northeast-2.amazonaws.com/datasets/vgames2.csv')\n",
        "del df['Unnamed: 0'] # Unnamed: 32 열 삭제"
      ],
      "execution_count": 1,
      "outputs": []
    },
    {
      "cell_type": "code",
      "metadata": {
        "colab": {
          "base_uri": "https://localhost:8080/"
        },
        "id": "tdikkm1clFmB",
        "outputId": "bf7e2924-9fff-4f0f-ad74-4579436e9efb"
      },
      "source": [
        "#한글 나눔 글꼴설치\n",
        "!sudo apt-get install -y fonts-nanum\n",
        "!sudo fc-cache -fv\n",
        "!rm ~/.cache/matplotlib -rf"
      ],
      "execution_count": 3,
      "outputs": [
        {
          "output_type": "stream",
          "text": [
            "Reading package lists... Done\n",
            "Building dependency tree       \n",
            "Reading state information... Done\n",
            "The following NEW packages will be installed:\n",
            "  fonts-nanum\n",
            "0 upgraded, 1 newly installed, 0 to remove and 30 not upgraded.\n",
            "Need to get 9,604 kB of archives.\n",
            "After this operation, 29.5 MB of additional disk space will be used.\n",
            "Get:1 http://archive.ubuntu.com/ubuntu bionic/universe amd64 fonts-nanum all 20170925-1 [9,604 kB]\n",
            "Fetched 9,604 kB in 1s (8,660 kB/s)\n",
            "debconf: unable to initialize frontend: Dialog\n",
            "debconf: (No usable dialog-like program is installed, so the dialog based frontend cannot be used. at /usr/share/perl5/Debconf/FrontEnd/Dialog.pm line 76, <> line 1.)\n",
            "debconf: falling back to frontend: Readline\n",
            "debconf: unable to initialize frontend: Readline\n",
            "debconf: (This frontend requires a controlling tty.)\n",
            "debconf: falling back to frontend: Teletype\n",
            "dpkg-preconfigure: unable to re-open stdin: \n",
            "Selecting previously unselected package fonts-nanum.\n",
            "(Reading database ... 160980 files and directories currently installed.)\n",
            "Preparing to unpack .../fonts-nanum_20170925-1_all.deb ...\n",
            "Unpacking fonts-nanum (20170925-1) ...\n",
            "Setting up fonts-nanum (20170925-1) ...\n",
            "Processing triggers for fontconfig (2.12.6-0ubuntu2) ...\n",
            "/usr/share/fonts: caching, new cache contents: 0 fonts, 1 dirs\n",
            "/usr/share/fonts/truetype: caching, new cache contents: 0 fonts, 3 dirs\n",
            "/usr/share/fonts/truetype/humor-sans: caching, new cache contents: 1 fonts, 0 dirs\n",
            "/usr/share/fonts/truetype/liberation: caching, new cache contents: 16 fonts, 0 dirs\n",
            "/usr/share/fonts/truetype/nanum: caching, new cache contents: 10 fonts, 0 dirs\n",
            "/usr/local/share/fonts: caching, new cache contents: 0 fonts, 0 dirs\n",
            "/root/.local/share/fonts: skipping, no such directory\n",
            "/root/.fonts: skipping, no such directory\n",
            "/var/cache/fontconfig: cleaning cache directory\n",
            "/root/.cache/fontconfig: not cleaning non-existent cache directory\n",
            "/root/.fontconfig: not cleaning non-existent cache directory\n",
            "fc-cache: succeeded\n"
          ],
          "name": "stdout"
        }
      ]
    },
    {
      "cell_type": "code",
      "metadata": {
        "id": "LniJYrWmUGbL"
      },
      "source": [
        "import matplotlib.pyplot as plt\n",
        "plt.rc('font', family='NanumBarunGothic') \n"
      ],
      "execution_count": 2,
      "outputs": []
    },
    {
      "cell_type": "code",
      "metadata": {
        "colab": {
          "base_uri": "https://localhost:8080/",
          "height": 405
        },
        "id": "LidpFLrh_2m2",
        "outputId": "a32accfc-ebf5-4c85-ef60-63c8b0ef299b"
      },
      "source": [
        "df"
      ],
      "execution_count": 4,
      "outputs": [
        {
          "output_type": "execute_result",
          "data": {
            "text/html": [
              "<div>\n",
              "<style scoped>\n",
              "    .dataframe tbody tr th:only-of-type {\n",
              "        vertical-align: middle;\n",
              "    }\n",
              "\n",
              "    .dataframe tbody tr th {\n",
              "        vertical-align: top;\n",
              "    }\n",
              "\n",
              "    .dataframe thead th {\n",
              "        text-align: right;\n",
              "    }\n",
              "</style>\n",
              "<table border=\"1\" class=\"dataframe\">\n",
              "  <thead>\n",
              "    <tr style=\"text-align: right;\">\n",
              "      <th></th>\n",
              "      <th>Name</th>\n",
              "      <th>Platform</th>\n",
              "      <th>Year</th>\n",
              "      <th>Genre</th>\n",
              "      <th>Publisher</th>\n",
              "      <th>NA_Sales</th>\n",
              "      <th>EU_Sales</th>\n",
              "      <th>JP_Sales</th>\n",
              "      <th>Other_Sales</th>\n",
              "    </tr>\n",
              "  </thead>\n",
              "  <tbody>\n",
              "    <tr>\n",
              "      <th>0</th>\n",
              "      <td>Candace Kane's Candy Factory</td>\n",
              "      <td>DS</td>\n",
              "      <td>2008.0</td>\n",
              "      <td>Action</td>\n",
              "      <td>Destineer</td>\n",
              "      <td>0.04</td>\n",
              "      <td>0</td>\n",
              "      <td>0</td>\n",
              "      <td>0</td>\n",
              "    </tr>\n",
              "    <tr>\n",
              "      <th>1</th>\n",
              "      <td>The Munchables</td>\n",
              "      <td>Wii</td>\n",
              "      <td>2009.0</td>\n",
              "      <td>Action</td>\n",
              "      <td>Namco Bandai Games</td>\n",
              "      <td>0.17</td>\n",
              "      <td>0</td>\n",
              "      <td>0</td>\n",
              "      <td>0.01</td>\n",
              "    </tr>\n",
              "    <tr>\n",
              "      <th>2</th>\n",
              "      <td>Otome wa Oanesama Boku ni Koi Shiteru Portable</td>\n",
              "      <td>PSP</td>\n",
              "      <td>2010.0</td>\n",
              "      <td>Adventure</td>\n",
              "      <td>Alchemist</td>\n",
              "      <td>0</td>\n",
              "      <td>0</td>\n",
              "      <td>0.02</td>\n",
              "      <td>0</td>\n",
              "    </tr>\n",
              "    <tr>\n",
              "      <th>3</th>\n",
              "      <td>Deal or No Deal: Special Edition</td>\n",
              "      <td>DS</td>\n",
              "      <td>2010.0</td>\n",
              "      <td>Misc</td>\n",
              "      <td>Zoo Games</td>\n",
              "      <td>0.04</td>\n",
              "      <td>0</td>\n",
              "      <td>0</td>\n",
              "      <td>0</td>\n",
              "    </tr>\n",
              "    <tr>\n",
              "      <th>4</th>\n",
              "      <td>Ben 10 Ultimate Alien: Cosmic Destruction</td>\n",
              "      <td>PS3</td>\n",
              "      <td>2010.0</td>\n",
              "      <td>Platform</td>\n",
              "      <td>D3Publisher</td>\n",
              "      <td>0.12</td>\n",
              "      <td>0.09</td>\n",
              "      <td>0</td>\n",
              "      <td>0.04</td>\n",
              "    </tr>\n",
              "    <tr>\n",
              "      <th>...</th>\n",
              "      <td>...</td>\n",
              "      <td>...</td>\n",
              "      <td>...</td>\n",
              "      <td>...</td>\n",
              "      <td>...</td>\n",
              "      <td>...</td>\n",
              "      <td>...</td>\n",
              "      <td>...</td>\n",
              "      <td>...</td>\n",
              "    </tr>\n",
              "    <tr>\n",
              "      <th>16593</th>\n",
              "      <td>Ice Age 2: The Meltdown</td>\n",
              "      <td>GC</td>\n",
              "      <td>2006.0</td>\n",
              "      <td>Platform</td>\n",
              "      <td>Vivendi Games</td>\n",
              "      <td>0.15</td>\n",
              "      <td>0.04</td>\n",
              "      <td>0</td>\n",
              "      <td>0.01</td>\n",
              "    </tr>\n",
              "    <tr>\n",
              "      <th>16594</th>\n",
              "      <td>Rainbow Islands: Revolution</td>\n",
              "      <td>PSP</td>\n",
              "      <td>2005.0</td>\n",
              "      <td>Action</td>\n",
              "      <td>Rising Star Games</td>\n",
              "      <td>0.01</td>\n",
              "      <td>0</td>\n",
              "      <td>0</td>\n",
              "      <td>0</td>\n",
              "    </tr>\n",
              "    <tr>\n",
              "      <th>16595</th>\n",
              "      <td>NBA 2K16</td>\n",
              "      <td>PS3</td>\n",
              "      <td>2015.0</td>\n",
              "      <td>Sports</td>\n",
              "      <td>Take-Two Interactive</td>\n",
              "      <td>0.44</td>\n",
              "      <td>0.19</td>\n",
              "      <td>0.03</td>\n",
              "      <td>0.13</td>\n",
              "    </tr>\n",
              "    <tr>\n",
              "      <th>16596</th>\n",
              "      <td>Toukiden: The Age of Demons</td>\n",
              "      <td>PSV</td>\n",
              "      <td>2013.0</td>\n",
              "      <td>Action</td>\n",
              "      <td>Tecmo Koei</td>\n",
              "      <td>0.05</td>\n",
              "      <td>0.05</td>\n",
              "      <td>0.25</td>\n",
              "      <td>0.03</td>\n",
              "    </tr>\n",
              "    <tr>\n",
              "      <th>16597</th>\n",
              "      <td>The King of Fighters '95</td>\n",
              "      <td>PS</td>\n",
              "      <td>1996.0</td>\n",
              "      <td>Fighting</td>\n",
              "      <td>Sony Computer Entertainment</td>\n",
              "      <td>0</td>\n",
              "      <td>0</td>\n",
              "      <td>0.16</td>\n",
              "      <td>0.01</td>\n",
              "    </tr>\n",
              "  </tbody>\n",
              "</table>\n",
              "<p>16598 rows × 9 columns</p>\n",
              "</div>"
            ],
            "text/plain": [
              "                                                 Name  ... Other_Sales\n",
              "0                        Candace Kane's Candy Factory  ...           0\n",
              "1                                      The Munchables  ...        0.01\n",
              "2      Otome wa Oanesama Boku ni Koi Shiteru Portable  ...           0\n",
              "3                    Deal or No Deal: Special Edition  ...           0\n",
              "4           Ben 10 Ultimate Alien: Cosmic Destruction  ...        0.04\n",
              "...                                               ...  ...         ...\n",
              "16593                         Ice Age 2: The Meltdown  ...        0.01\n",
              "16594                     Rainbow Islands: Revolution  ...           0\n",
              "16595                                        NBA 2K16  ...        0.13\n",
              "16596                     Toukiden: The Age of Demons  ...        0.03\n",
              "16597                        The King of Fighters '95  ...        0.01\n",
              "\n",
              "[16598 rows x 9 columns]"
            ]
          },
          "metadata": {
            "tags": []
          },
          "execution_count": 4
        }
      ]
    },
    {
      "cell_type": "markdown",
      "metadata": {
        "id": "cyFh48RDIYum"
      },
      "source": [
        "Platform-게임 출시 플랫폼\n",
        "\n",
        "Year-게임 출시 연도\n",
        "\n",
        "Genre-게임 장르\n",
        "\n",
        "Publisher -게임 게시자\n",
        "\n",
        "NA_Sales-북미 지역 판매 (백만 단위)\n",
        "\n",
        "EU_Sales-유럽 판매 (백만 단위)\n",
        "\n",
        "JP_Sales-일본에서의 판매 (백만 단위)\n",
        "\n",
        "Other_Sales-전 세계 판매 (백만 단위)"
      ]
    },
    {
      "cell_type": "code",
      "metadata": {
        "colab": {
          "base_uri": "https://localhost:8080/"
        },
        "id": "MRCKhL6BHL4y",
        "outputId": "ec1278c8-b05f-4209-fe55-cd88dc81d837"
      },
      "source": [
        "df.shape\n",
        "# 16598 행 / 9 열"
      ],
      "execution_count": 5,
      "outputs": [
        {
          "output_type": "execute_result",
          "data": {
            "text/plain": [
              "(16598, 9)"
            ]
          },
          "metadata": {
            "tags": []
          },
          "execution_count": 5
        }
      ]
    },
    {
      "cell_type": "code",
      "metadata": {
        "colab": {
          "base_uri": "https://localhost:8080/"
        },
        "id": "qdoh-YDrCBm_",
        "outputId": "73964185-d988-441c-e650-79fe3f560e65"
      },
      "source": [
        "df.info()          # 데이터 type 확인\n",
        "df.isnull().sum()  # 결측치 개수 확인\n",
        "\n"
      ],
      "execution_count": 6,
      "outputs": [
        {
          "output_type": "stream",
          "text": [
            "<class 'pandas.core.frame.DataFrame'>\n",
            "RangeIndex: 16598 entries, 0 to 16597\n",
            "Data columns (total 9 columns):\n",
            " #   Column       Non-Null Count  Dtype  \n",
            "---  ------       --------------  -----  \n",
            " 0   Name         16598 non-null  object \n",
            " 1   Platform     16598 non-null  object \n",
            " 2   Year         16327 non-null  float64\n",
            " 3   Genre        16548 non-null  object \n",
            " 4   Publisher    16540 non-null  object \n",
            " 5   NA_Sales     16598 non-null  object \n",
            " 6   EU_Sales     16598 non-null  object \n",
            " 7   JP_Sales     16598 non-null  object \n",
            " 8   Other_Sales  16598 non-null  object \n",
            "dtypes: float64(1), object(8)\n",
            "memory usage: 1.1+ MB\n"
          ],
          "name": "stdout"
        },
        {
          "output_type": "execute_result",
          "data": {
            "text/plain": [
              "Name             0\n",
              "Platform         0\n",
              "Year           271\n",
              "Genre           50\n",
              "Publisher       58\n",
              "NA_Sales         0\n",
              "EU_Sales         0\n",
              "JP_Sales         0\n",
              "Other_Sales      0\n",
              "dtype: int64"
            ]
          },
          "metadata": {
            "tags": []
          },
          "execution_count": 6
        }
      ]
    },
    {
      "cell_type": "markdown",
      "metadata": {
        "id": "QEwfC9mGNe3q"
      },
      "source": [
        "# 결측치 개수\n",
        "\n",
        "Year 271개\n",
        "\n",
        "Genre 50개\n",
        "\n",
        "Publusher 58개\n",
        "\n",
        "\n",
        "\n",
        "\n",
        "# sales는 object로 구성되어있다.\n",
        "(실수형일 줄 알았는데 아니였다. K,M 문자가 있는거 보면 심상치 않다.)"
      ]
    },
    {
      "cell_type": "code",
      "metadata": {
        "colab": {
          "base_uri": "https://localhost:8080/"
        },
        "id": "P34HS5pcH9Ab",
        "outputId": "5229c18a-168e-49f7-f22a-880c46250299"
      },
      "source": [
        "print(df.describe())# 요약통계량 확인"
      ],
      "execution_count": 7,
      "outputs": [
        {
          "output_type": "stream",
          "text": [
            "               Year\n",
            "count  16327.000000\n",
            "mean    1994.242543\n",
            "std      155.077168\n",
            "min        0.000000\n",
            "25%     2003.000000\n",
            "50%     2007.000000\n",
            "75%     2010.000000\n",
            "max     2020.000000\n"
          ],
          "name": "stdout"
        }
      ]
    },
    {
      "cell_type": "code",
      "metadata": {
        "id": "YJwUaneLC6WI"
      },
      "source": [
        "#null_data = df[df.isnull().any(axis=1)] # 결측치 있는 행 선택\n",
        "#df[df['Year'].isnull()] # Year 결측치\n",
        "#df[df['Genre'].isnull()] # Genre 결측치\n",
        "#df[df['Platform'].isnull()]"
      ],
      "execution_count": 8,
      "outputs": []
    },
    {
      "cell_type": "code",
      "metadata": {
        "colab": {
          "base_uri": "https://localhost:8080/",
          "height": 405
        },
        "id": "R199s-Iypi7f",
        "outputId": "4e8f2254-d1a4-4ba5-9c73-c56b32a10ceb"
      },
      "source": [
        "sub_sales = df[['NA_Sales', 'EU_Sales', 'JP_Sales','Other_Sales']]\n",
        "sub_sales # 판매량 따로 \n",
        "\n",
        "# 아래의 과정을 위해 지역별 판매량 df를 따로 분리한다.\n",
        "# 그 후에 K,M이 들어간 것을 지우고 object를 float으로 형 변환을 한다. \n",
        "# 그 후 기존에 있던 판매량을 drop을 사용하여 없애고 새롭게 만든 판매량을 concat으로 합친다."
      ],
      "execution_count": 3,
      "outputs": [
        {
          "output_type": "execute_result",
          "data": {
            "text/html": [
              "<div>\n",
              "<style scoped>\n",
              "    .dataframe tbody tr th:only-of-type {\n",
              "        vertical-align: middle;\n",
              "    }\n",
              "\n",
              "    .dataframe tbody tr th {\n",
              "        vertical-align: top;\n",
              "    }\n",
              "\n",
              "    .dataframe thead th {\n",
              "        text-align: right;\n",
              "    }\n",
              "</style>\n",
              "<table border=\"1\" class=\"dataframe\">\n",
              "  <thead>\n",
              "    <tr style=\"text-align: right;\">\n",
              "      <th></th>\n",
              "      <th>NA_Sales</th>\n",
              "      <th>EU_Sales</th>\n",
              "      <th>JP_Sales</th>\n",
              "      <th>Other_Sales</th>\n",
              "    </tr>\n",
              "  </thead>\n",
              "  <tbody>\n",
              "    <tr>\n",
              "      <th>0</th>\n",
              "      <td>0.04</td>\n",
              "      <td>0</td>\n",
              "      <td>0</td>\n",
              "      <td>0</td>\n",
              "    </tr>\n",
              "    <tr>\n",
              "      <th>1</th>\n",
              "      <td>0.17</td>\n",
              "      <td>0</td>\n",
              "      <td>0</td>\n",
              "      <td>0.01</td>\n",
              "    </tr>\n",
              "    <tr>\n",
              "      <th>2</th>\n",
              "      <td>0</td>\n",
              "      <td>0</td>\n",
              "      <td>0.02</td>\n",
              "      <td>0</td>\n",
              "    </tr>\n",
              "    <tr>\n",
              "      <th>3</th>\n",
              "      <td>0.04</td>\n",
              "      <td>0</td>\n",
              "      <td>0</td>\n",
              "      <td>0</td>\n",
              "    </tr>\n",
              "    <tr>\n",
              "      <th>4</th>\n",
              "      <td>0.12</td>\n",
              "      <td>0.09</td>\n",
              "      <td>0</td>\n",
              "      <td>0.04</td>\n",
              "    </tr>\n",
              "    <tr>\n",
              "      <th>...</th>\n",
              "      <td>...</td>\n",
              "      <td>...</td>\n",
              "      <td>...</td>\n",
              "      <td>...</td>\n",
              "    </tr>\n",
              "    <tr>\n",
              "      <th>16593</th>\n",
              "      <td>0.15</td>\n",
              "      <td>0.04</td>\n",
              "      <td>0</td>\n",
              "      <td>0.01</td>\n",
              "    </tr>\n",
              "    <tr>\n",
              "      <th>16594</th>\n",
              "      <td>0.01</td>\n",
              "      <td>0</td>\n",
              "      <td>0</td>\n",
              "      <td>0</td>\n",
              "    </tr>\n",
              "    <tr>\n",
              "      <th>16595</th>\n",
              "      <td>0.44</td>\n",
              "      <td>0.19</td>\n",
              "      <td>0.03</td>\n",
              "      <td>0.13</td>\n",
              "    </tr>\n",
              "    <tr>\n",
              "      <th>16596</th>\n",
              "      <td>0.05</td>\n",
              "      <td>0.05</td>\n",
              "      <td>0.25</td>\n",
              "      <td>0.03</td>\n",
              "    </tr>\n",
              "    <tr>\n",
              "      <th>16597</th>\n",
              "      <td>0</td>\n",
              "      <td>0</td>\n",
              "      <td>0.16</td>\n",
              "      <td>0.01</td>\n",
              "    </tr>\n",
              "  </tbody>\n",
              "</table>\n",
              "<p>16598 rows × 4 columns</p>\n",
              "</div>"
            ],
            "text/plain": [
              "      NA_Sales EU_Sales JP_Sales Other_Sales\n",
              "0         0.04        0        0           0\n",
              "1         0.17        0        0        0.01\n",
              "2            0        0     0.02           0\n",
              "3         0.04        0        0           0\n",
              "4         0.12     0.09        0        0.04\n",
              "...        ...      ...      ...         ...\n",
              "16593     0.15     0.04        0        0.01\n",
              "16594     0.01        0        0           0\n",
              "16595     0.44     0.19     0.03        0.13\n",
              "16596     0.05     0.05     0.25        0.03\n",
              "16597        0        0     0.16        0.01\n",
              "\n",
              "[16598 rows x 4 columns]"
            ]
          },
          "metadata": {
            "tags": []
          },
          "execution_count": 3
        }
      ]
    },
    {
      "cell_type": "code",
      "metadata": {
        "id": "d9luda3DqfTH"
      },
      "source": [
        "def fuction(x): # 함수설정 M이들어가면 지우고 K가 들어가면 지우고 0.001을 곱해라 . 전부 실수형으로 바꿔주고 \n",
        "  if 'M' in x :\n",
        "    return (float(x.replace('M','')))\n",
        "  elif 'K' in x :\n",
        "    return (float(x.replace('K','')))*0.001\n",
        "  else :\n",
        "    return float(x)   "
      ],
      "execution_count": 4,
      "outputs": []
    },
    {
      "cell_type": "code",
      "metadata": {
        "id": "J8Te8klEpg0Q"
      },
      "source": [
        "sub_NA_Sales= sub_sales[\"NA_Sales\"].apply(lambda x : fuction(x))\n",
        "sub_EU_Sales= sub_sales[\"EU_Sales\"].apply(lambda x : fuction(x))\n",
        "sub_JP_Sales= sub_sales[\"JP_Sales\"].apply(lambda x : fuction(x))\n",
        "sub_Other_Sales= sub_sales[\"Other_Sales\"].apply(lambda x : fuction(x))"
      ],
      "execution_count": 5,
      "outputs": []
    },
    {
      "cell_type": "code",
      "metadata": {
        "colab": {
          "base_uri": "https://localhost:8080/"
        },
        "id": "pMyrUx6Gp99k",
        "outputId": "e6c989b2-e5cd-466b-fe48-e81b4dcec96b"
      },
      "source": [
        "new_sales = pd.concat([sub_NA_Sales, sub_EU_Sales, sub_JP_Sales, sub_Other_Sales], axis=1)\n",
        "new_sales.info()\n",
        "# dtype를 보면 float으로 변경되었다."
      ],
      "execution_count": 6,
      "outputs": [
        {
          "output_type": "stream",
          "text": [
            "<class 'pandas.core.frame.DataFrame'>\n",
            "RangeIndex: 16598 entries, 0 to 16597\n",
            "Data columns (total 4 columns):\n",
            " #   Column       Non-Null Count  Dtype  \n",
            "---  ------       --------------  -----  \n",
            " 0   NA_Sales     16598 non-null  float64\n",
            " 1   EU_Sales     16598 non-null  float64\n",
            " 2   JP_Sales     16598 non-null  float64\n",
            " 3   Other_Sales  16598 non-null  float64\n",
            "dtypes: float64(4)\n",
            "memory usage: 518.8 KB\n"
          ],
          "name": "stdout"
        }
      ]
    },
    {
      "cell_type": "code",
      "metadata": {
        "colab": {
          "base_uri": "https://localhost:8080/",
          "height": 405
        },
        "id": "2UdwMwF8_0F5",
        "outputId": "0f621f7f-4f52-4bb3-a2be-200cdb020109"
      },
      "source": [
        "df2 = df.drop(['NA_Sales','EU_Sales', 'JP_Sales','Other_Sales'], axis = 1) # 기존에 있던 지역별 sales 열 삭제\n",
        "df2"
      ],
      "execution_count": 7,
      "outputs": [
        {
          "output_type": "execute_result",
          "data": {
            "text/html": [
              "<div>\n",
              "<style scoped>\n",
              "    .dataframe tbody tr th:only-of-type {\n",
              "        vertical-align: middle;\n",
              "    }\n",
              "\n",
              "    .dataframe tbody tr th {\n",
              "        vertical-align: top;\n",
              "    }\n",
              "\n",
              "    .dataframe thead th {\n",
              "        text-align: right;\n",
              "    }\n",
              "</style>\n",
              "<table border=\"1\" class=\"dataframe\">\n",
              "  <thead>\n",
              "    <tr style=\"text-align: right;\">\n",
              "      <th></th>\n",
              "      <th>Name</th>\n",
              "      <th>Platform</th>\n",
              "      <th>Year</th>\n",
              "      <th>Genre</th>\n",
              "      <th>Publisher</th>\n",
              "    </tr>\n",
              "  </thead>\n",
              "  <tbody>\n",
              "    <tr>\n",
              "      <th>0</th>\n",
              "      <td>Candace Kane's Candy Factory</td>\n",
              "      <td>DS</td>\n",
              "      <td>2008.0</td>\n",
              "      <td>Action</td>\n",
              "      <td>Destineer</td>\n",
              "    </tr>\n",
              "    <tr>\n",
              "      <th>1</th>\n",
              "      <td>The Munchables</td>\n",
              "      <td>Wii</td>\n",
              "      <td>2009.0</td>\n",
              "      <td>Action</td>\n",
              "      <td>Namco Bandai Games</td>\n",
              "    </tr>\n",
              "    <tr>\n",
              "      <th>2</th>\n",
              "      <td>Otome wa Oanesama Boku ni Koi Shiteru Portable</td>\n",
              "      <td>PSP</td>\n",
              "      <td>2010.0</td>\n",
              "      <td>Adventure</td>\n",
              "      <td>Alchemist</td>\n",
              "    </tr>\n",
              "    <tr>\n",
              "      <th>3</th>\n",
              "      <td>Deal or No Deal: Special Edition</td>\n",
              "      <td>DS</td>\n",
              "      <td>2010.0</td>\n",
              "      <td>Misc</td>\n",
              "      <td>Zoo Games</td>\n",
              "    </tr>\n",
              "    <tr>\n",
              "      <th>4</th>\n",
              "      <td>Ben 10 Ultimate Alien: Cosmic Destruction</td>\n",
              "      <td>PS3</td>\n",
              "      <td>2010.0</td>\n",
              "      <td>Platform</td>\n",
              "      <td>D3Publisher</td>\n",
              "    </tr>\n",
              "    <tr>\n",
              "      <th>...</th>\n",
              "      <td>...</td>\n",
              "      <td>...</td>\n",
              "      <td>...</td>\n",
              "      <td>...</td>\n",
              "      <td>...</td>\n",
              "    </tr>\n",
              "    <tr>\n",
              "      <th>16593</th>\n",
              "      <td>Ice Age 2: The Meltdown</td>\n",
              "      <td>GC</td>\n",
              "      <td>2006.0</td>\n",
              "      <td>Platform</td>\n",
              "      <td>Vivendi Games</td>\n",
              "    </tr>\n",
              "    <tr>\n",
              "      <th>16594</th>\n",
              "      <td>Rainbow Islands: Revolution</td>\n",
              "      <td>PSP</td>\n",
              "      <td>2005.0</td>\n",
              "      <td>Action</td>\n",
              "      <td>Rising Star Games</td>\n",
              "    </tr>\n",
              "    <tr>\n",
              "      <th>16595</th>\n",
              "      <td>NBA 2K16</td>\n",
              "      <td>PS3</td>\n",
              "      <td>2015.0</td>\n",
              "      <td>Sports</td>\n",
              "      <td>Take-Two Interactive</td>\n",
              "    </tr>\n",
              "    <tr>\n",
              "      <th>16596</th>\n",
              "      <td>Toukiden: The Age of Demons</td>\n",
              "      <td>PSV</td>\n",
              "      <td>2013.0</td>\n",
              "      <td>Action</td>\n",
              "      <td>Tecmo Koei</td>\n",
              "    </tr>\n",
              "    <tr>\n",
              "      <th>16597</th>\n",
              "      <td>The King of Fighters '95</td>\n",
              "      <td>PS</td>\n",
              "      <td>1996.0</td>\n",
              "      <td>Fighting</td>\n",
              "      <td>Sony Computer Entertainment</td>\n",
              "    </tr>\n",
              "  </tbody>\n",
              "</table>\n",
              "<p>16598 rows × 5 columns</p>\n",
              "</div>"
            ],
            "text/plain": [
              "                                                 Name  ...                    Publisher\n",
              "0                        Candace Kane's Candy Factory  ...                    Destineer\n",
              "1                                      The Munchables  ...           Namco Bandai Games\n",
              "2      Otome wa Oanesama Boku ni Koi Shiteru Portable  ...                    Alchemist\n",
              "3                    Deal or No Deal: Special Edition  ...                    Zoo Games\n",
              "4           Ben 10 Ultimate Alien: Cosmic Destruction  ...                  D3Publisher\n",
              "...                                               ...  ...                          ...\n",
              "16593                         Ice Age 2: The Meltdown  ...                Vivendi Games\n",
              "16594                     Rainbow Islands: Revolution  ...            Rising Star Games\n",
              "16595                                        NBA 2K16  ...         Take-Two Interactive\n",
              "16596                     Toukiden: The Age of Demons  ...                   Tecmo Koei\n",
              "16597                        The King of Fighters '95  ...  Sony Computer Entertainment\n",
              "\n",
              "[16598 rows x 5 columns]"
            ]
          },
          "metadata": {
            "tags": []
          },
          "execution_count": 7
        }
      ]
    },
    {
      "cell_type": "code",
      "metadata": {
        "colab": {
          "base_uri": "https://localhost:8080/"
        },
        "id": "fxm8aPKeqDqL",
        "outputId": "d908b0a8-12cf-4230-ca16-0c920875be30"
      },
      "source": [
        "new_df = pd.concat([df2, new_sales], axis=1)  # df에 새롭게 만든 new_sales 열을 추가하여 new_df를 만들어줌.\n",
        "new_df.info()\n",
        "\n",
        "# dtype를 보면 float으로 변경되었다."
      ],
      "execution_count": 8,
      "outputs": [
        {
          "output_type": "stream",
          "text": [
            "<class 'pandas.core.frame.DataFrame'>\n",
            "RangeIndex: 16598 entries, 0 to 16597\n",
            "Data columns (total 9 columns):\n",
            " #   Column       Non-Null Count  Dtype  \n",
            "---  ------       --------------  -----  \n",
            " 0   Name         16598 non-null  object \n",
            " 1   Platform     16598 non-null  object \n",
            " 2   Year         16327 non-null  float64\n",
            " 3   Genre        16548 non-null  object \n",
            " 4   Publisher    16540 non-null  object \n",
            " 5   NA_Sales     16598 non-null  float64\n",
            " 6   EU_Sales     16598 non-null  float64\n",
            " 7   JP_Sales     16598 non-null  float64\n",
            " 8   Other_Sales  16598 non-null  float64\n",
            "dtypes: float64(5), object(4)\n",
            "memory usage: 1.1+ MB\n"
          ],
          "name": "stdout"
        }
      ]
    },
    {
      "cell_type": "code",
      "metadata": {
        "colab": {
          "base_uri": "https://localhost:8080/",
          "height": 550
        },
        "id": "CB4NCOoHDytf",
        "outputId": "d9ed9aa8-5a01-4a14-eedf-62553af9dd34"
      },
      "source": [
        "new_df[\"total_sales\"] = (new_df['NA_Sales'] + new_df['EU_Sales'] + new_df['JP_Sales'] + new_df['Other_Sales']).round(2)  # 지역별 판매량 총 합을 나타내는 sales 열 만들기. ()\n",
        "print(new_df.head())\n",
        "df"
      ],
      "execution_count": 9,
      "outputs": [
        {
          "output_type": "stream",
          "text": [
            "                                             Name  ... total_sales\n",
            "0                    Candace Kane's Candy Factory  ...        0.04\n",
            "1                                  The Munchables  ...        0.18\n",
            "2  Otome wa Oanesama Boku ni Koi Shiteru Portable  ...        0.02\n",
            "3                Deal or No Deal: Special Edition  ...        0.04\n",
            "4       Ben 10 Ultimate Alien: Cosmic Destruction  ...        0.25\n",
            "\n",
            "[5 rows x 10 columns]\n"
          ],
          "name": "stdout"
        },
        {
          "output_type": "execute_result",
          "data": {
            "text/html": [
              "<div>\n",
              "<style scoped>\n",
              "    .dataframe tbody tr th:only-of-type {\n",
              "        vertical-align: middle;\n",
              "    }\n",
              "\n",
              "    .dataframe tbody tr th {\n",
              "        vertical-align: top;\n",
              "    }\n",
              "\n",
              "    .dataframe thead th {\n",
              "        text-align: right;\n",
              "    }\n",
              "</style>\n",
              "<table border=\"1\" class=\"dataframe\">\n",
              "  <thead>\n",
              "    <tr style=\"text-align: right;\">\n",
              "      <th></th>\n",
              "      <th>Name</th>\n",
              "      <th>Platform</th>\n",
              "      <th>Year</th>\n",
              "      <th>Genre</th>\n",
              "      <th>Publisher</th>\n",
              "      <th>NA_Sales</th>\n",
              "      <th>EU_Sales</th>\n",
              "      <th>JP_Sales</th>\n",
              "      <th>Other_Sales</th>\n",
              "    </tr>\n",
              "  </thead>\n",
              "  <tbody>\n",
              "    <tr>\n",
              "      <th>0</th>\n",
              "      <td>Candace Kane's Candy Factory</td>\n",
              "      <td>DS</td>\n",
              "      <td>2008.0</td>\n",
              "      <td>Action</td>\n",
              "      <td>Destineer</td>\n",
              "      <td>0.04</td>\n",
              "      <td>0</td>\n",
              "      <td>0</td>\n",
              "      <td>0</td>\n",
              "    </tr>\n",
              "    <tr>\n",
              "      <th>1</th>\n",
              "      <td>The Munchables</td>\n",
              "      <td>Wii</td>\n",
              "      <td>2009.0</td>\n",
              "      <td>Action</td>\n",
              "      <td>Namco Bandai Games</td>\n",
              "      <td>0.17</td>\n",
              "      <td>0</td>\n",
              "      <td>0</td>\n",
              "      <td>0.01</td>\n",
              "    </tr>\n",
              "    <tr>\n",
              "      <th>2</th>\n",
              "      <td>Otome wa Oanesama Boku ni Koi Shiteru Portable</td>\n",
              "      <td>PSP</td>\n",
              "      <td>2010.0</td>\n",
              "      <td>Adventure</td>\n",
              "      <td>Alchemist</td>\n",
              "      <td>0</td>\n",
              "      <td>0</td>\n",
              "      <td>0.02</td>\n",
              "      <td>0</td>\n",
              "    </tr>\n",
              "    <tr>\n",
              "      <th>3</th>\n",
              "      <td>Deal or No Deal: Special Edition</td>\n",
              "      <td>DS</td>\n",
              "      <td>2010.0</td>\n",
              "      <td>Misc</td>\n",
              "      <td>Zoo Games</td>\n",
              "      <td>0.04</td>\n",
              "      <td>0</td>\n",
              "      <td>0</td>\n",
              "      <td>0</td>\n",
              "    </tr>\n",
              "    <tr>\n",
              "      <th>4</th>\n",
              "      <td>Ben 10 Ultimate Alien: Cosmic Destruction</td>\n",
              "      <td>PS3</td>\n",
              "      <td>2010.0</td>\n",
              "      <td>Platform</td>\n",
              "      <td>D3Publisher</td>\n",
              "      <td>0.12</td>\n",
              "      <td>0.09</td>\n",
              "      <td>0</td>\n",
              "      <td>0.04</td>\n",
              "    </tr>\n",
              "    <tr>\n",
              "      <th>...</th>\n",
              "      <td>...</td>\n",
              "      <td>...</td>\n",
              "      <td>...</td>\n",
              "      <td>...</td>\n",
              "      <td>...</td>\n",
              "      <td>...</td>\n",
              "      <td>...</td>\n",
              "      <td>...</td>\n",
              "      <td>...</td>\n",
              "    </tr>\n",
              "    <tr>\n",
              "      <th>16593</th>\n",
              "      <td>Ice Age 2: The Meltdown</td>\n",
              "      <td>GC</td>\n",
              "      <td>2006.0</td>\n",
              "      <td>Platform</td>\n",
              "      <td>Vivendi Games</td>\n",
              "      <td>0.15</td>\n",
              "      <td>0.04</td>\n",
              "      <td>0</td>\n",
              "      <td>0.01</td>\n",
              "    </tr>\n",
              "    <tr>\n",
              "      <th>16594</th>\n",
              "      <td>Rainbow Islands: Revolution</td>\n",
              "      <td>PSP</td>\n",
              "      <td>2005.0</td>\n",
              "      <td>Action</td>\n",
              "      <td>Rising Star Games</td>\n",
              "      <td>0.01</td>\n",
              "      <td>0</td>\n",
              "      <td>0</td>\n",
              "      <td>0</td>\n",
              "    </tr>\n",
              "    <tr>\n",
              "      <th>16595</th>\n",
              "      <td>NBA 2K16</td>\n",
              "      <td>PS3</td>\n",
              "      <td>2015.0</td>\n",
              "      <td>Sports</td>\n",
              "      <td>Take-Two Interactive</td>\n",
              "      <td>0.44</td>\n",
              "      <td>0.19</td>\n",
              "      <td>0.03</td>\n",
              "      <td>0.13</td>\n",
              "    </tr>\n",
              "    <tr>\n",
              "      <th>16596</th>\n",
              "      <td>Toukiden: The Age of Demons</td>\n",
              "      <td>PSV</td>\n",
              "      <td>2013.0</td>\n",
              "      <td>Action</td>\n",
              "      <td>Tecmo Koei</td>\n",
              "      <td>0.05</td>\n",
              "      <td>0.05</td>\n",
              "      <td>0.25</td>\n",
              "      <td>0.03</td>\n",
              "    </tr>\n",
              "    <tr>\n",
              "      <th>16597</th>\n",
              "      <td>The King of Fighters '95</td>\n",
              "      <td>PS</td>\n",
              "      <td>1996.0</td>\n",
              "      <td>Fighting</td>\n",
              "      <td>Sony Computer Entertainment</td>\n",
              "      <td>0</td>\n",
              "      <td>0</td>\n",
              "      <td>0.16</td>\n",
              "      <td>0.01</td>\n",
              "    </tr>\n",
              "  </tbody>\n",
              "</table>\n",
              "<p>16598 rows × 9 columns</p>\n",
              "</div>"
            ],
            "text/plain": [
              "                                                 Name  ... Other_Sales\n",
              "0                        Candace Kane's Candy Factory  ...           0\n",
              "1                                      The Munchables  ...        0.01\n",
              "2      Otome wa Oanesama Boku ni Koi Shiteru Portable  ...           0\n",
              "3                    Deal or No Deal: Special Edition  ...           0\n",
              "4           Ben 10 Ultimate Alien: Cosmic Destruction  ...        0.04\n",
              "...                                               ...  ...         ...\n",
              "16593                         Ice Age 2: The Meltdown  ...        0.01\n",
              "16594                     Rainbow Islands: Revolution  ...           0\n",
              "16595                                        NBA 2K16  ...        0.13\n",
              "16596                     Toukiden: The Age of Demons  ...        0.03\n",
              "16597                        The King of Fighters '95  ...        0.01\n",
              "\n",
              "[16598 rows x 9 columns]"
            ]
          },
          "metadata": {
            "tags": []
          },
          "execution_count": 9
        }
      ]
    },
    {
      "cell_type": "code",
      "metadata": {
        "colab": {
          "base_uri": "https://localhost:8080/",
          "height": 197
        },
        "id": "uGwMl6IYFLwK",
        "outputId": "1e4bb3ff-3552-4811-89ec-bd3f3c26518d"
      },
      "source": [
        "sort_total_sales_new_df = new_df.sort_values(['total_sales'], ascending=False)  # 지역별 판매량 총 합인 total_sales를 내림차순해준다.\n",
        "sort_total_sales_new_df.head()\n",
        "\n",
        "# 내림차순을 하기 위한 방법 .sort_index()\n",
        "# df_sorted_by_index = df.sort_index(ascending=False) \n",
        "# ascending=False 내림차순으로 정렬\n"
      ],
      "execution_count": 10,
      "outputs": [
        {
          "output_type": "execute_result",
          "data": {
            "text/html": [
              "<div>\n",
              "<style scoped>\n",
              "    .dataframe tbody tr th:only-of-type {\n",
              "        vertical-align: middle;\n",
              "    }\n",
              "\n",
              "    .dataframe tbody tr th {\n",
              "        vertical-align: top;\n",
              "    }\n",
              "\n",
              "    .dataframe thead th {\n",
              "        text-align: right;\n",
              "    }\n",
              "</style>\n",
              "<table border=\"1\" class=\"dataframe\">\n",
              "  <thead>\n",
              "    <tr style=\"text-align: right;\">\n",
              "      <th></th>\n",
              "      <th>Name</th>\n",
              "      <th>Platform</th>\n",
              "      <th>Year</th>\n",
              "      <th>Genre</th>\n",
              "      <th>Publisher</th>\n",
              "      <th>NA_Sales</th>\n",
              "      <th>EU_Sales</th>\n",
              "      <th>JP_Sales</th>\n",
              "      <th>Other_Sales</th>\n",
              "      <th>total_sales</th>\n",
              "    </tr>\n",
              "  </thead>\n",
              "  <tbody>\n",
              "    <tr>\n",
              "      <th>2908</th>\n",
              "      <td>Wii Sports</td>\n",
              "      <td>Wii</td>\n",
              "      <td>2006.0</td>\n",
              "      <td>Sports</td>\n",
              "      <td>Nintendo</td>\n",
              "      <td>41.49</td>\n",
              "      <td>29.02</td>\n",
              "      <td>3.77</td>\n",
              "      <td>8.46</td>\n",
              "      <td>82.74</td>\n",
              "    </tr>\n",
              "    <tr>\n",
              "      <th>4199</th>\n",
              "      <td>Super Mario Bros.</td>\n",
              "      <td>NES</td>\n",
              "      <td>1985.0</td>\n",
              "      <td>Platform</td>\n",
              "      <td>Nintendo</td>\n",
              "      <td>29.08</td>\n",
              "      <td>3.58</td>\n",
              "      <td>6.81</td>\n",
              "      <td>0.77</td>\n",
              "      <td>40.24</td>\n",
              "    </tr>\n",
              "    <tr>\n",
              "      <th>12579</th>\n",
              "      <td>Mario Kart Wii</td>\n",
              "      <td>Wii</td>\n",
              "      <td>2008.0</td>\n",
              "      <td>Racing</td>\n",
              "      <td>Nintendo</td>\n",
              "      <td>15.85</td>\n",
              "      <td>12.88</td>\n",
              "      <td>3.79</td>\n",
              "      <td>3.31</td>\n",
              "      <td>35.83</td>\n",
              "    </tr>\n",
              "    <tr>\n",
              "      <th>3352</th>\n",
              "      <td>Wii Sports Resort</td>\n",
              "      <td>Wii</td>\n",
              "      <td>2009.0</td>\n",
              "      <td>Sports</td>\n",
              "      <td>Nintendo</td>\n",
              "      <td>15.75</td>\n",
              "      <td>11.01</td>\n",
              "      <td>3.28</td>\n",
              "      <td>2.96</td>\n",
              "      <td>33.00</td>\n",
              "    </tr>\n",
              "    <tr>\n",
              "      <th>7829</th>\n",
              "      <td>Pokemon Red/Pokemon Blue</td>\n",
              "      <td>GB</td>\n",
              "      <td>1996.0</td>\n",
              "      <td>Role-Playing</td>\n",
              "      <td>Nintendo</td>\n",
              "      <td>11.27</td>\n",
              "      <td>8.89</td>\n",
              "      <td>10.22</td>\n",
              "      <td>1.00</td>\n",
              "      <td>31.38</td>\n",
              "    </tr>\n",
              "  </tbody>\n",
              "</table>\n",
              "</div>"
            ],
            "text/plain": [
              "                           Name Platform  ...  Other_Sales total_sales\n",
              "2908                 Wii Sports      Wii  ...         8.46       82.74\n",
              "4199          Super Mario Bros.      NES  ...         0.77       40.24\n",
              "12579            Mario Kart Wii      Wii  ...         3.31       35.83\n",
              "3352          Wii Sports Resort      Wii  ...         2.96       33.00\n",
              "7829   Pokemon Red/Pokemon Blue       GB  ...         1.00       31.38\n",
              "\n",
              "[5 rows x 10 columns]"
            ]
          },
          "metadata": {
            "tags": []
          },
          "execution_count": 10
        }
      ]
    },
    {
      "cell_type": "code",
      "metadata": {
        "colab": {
          "base_uri": "https://localhost:8080/"
        },
        "id": "3HujyujAGQKi",
        "outputId": "3806fd69-61ed-431d-d159-05ea9c878ddb"
      },
      "source": [
        "print(sort_total_sales_new_df) # overall_sales 열을 내림차순으로 바꿔줌 (전체 데이터값 순서도 바뀜)"
      ],
      "execution_count": 11,
      "outputs": [
        {
          "output_type": "stream",
          "text": [
            "                                                    Name  ... total_sales\n",
            "2908                                          Wii Sports  ...       82.74\n",
            "4199                                   Super Mario Bros.  ...       40.24\n",
            "12579                                     Mario Kart Wii  ...       35.83\n",
            "3352                                   Wii Sports Resort  ...       33.00\n",
            "7829                            Pokemon Red/Pokemon Blue  ...       31.38\n",
            "...                                                  ...  ...         ...\n",
            "14265         Nitroplus Blasterz: Heroines Infinite Duel  ...        0.01\n",
            "2311   Shinseiki Evangelion: Koutetsu no Girlfriend 2...  ...        0.01\n",
            "11376                                     Rail Simulator  ...        0.01\n",
            "3571                         Hyperdimension Neptunia mk2  ...        0.01\n",
            "5598    SCORE International Baja 1000: The Official Game  ...        0.00\n",
            "\n",
            "[16598 rows x 10 columns]\n"
          ],
          "name": "stdout"
        }
      ]
    },
    {
      "cell_type": "code",
      "metadata": {
        "colab": {
          "base_uri": "https://localhost:8080/"
        },
        "id": "RXa7OE4WArFG",
        "outputId": "299be21b-e858-4eb8-dec4-e5db6928fba0"
      },
      "source": [
        "df_drop_nan = sort_total_sales_new_df.dropna()  # NaN 값을 없애준 df_del_nan을 만들어줌 # 굳이 NaN을 바꾼 이유는 내림차순으로 상위 데이터를 본 결과 nan값이 없어서 없앰.\n",
        "print(df_drop_nan)"
      ],
      "execution_count": 12,
      "outputs": [
        {
          "output_type": "stream",
          "text": [
            "                                                    Name  ... total_sales\n",
            "2908                                          Wii Sports  ...       82.74\n",
            "4199                                   Super Mario Bros.  ...       40.24\n",
            "12579                                     Mario Kart Wii  ...       35.83\n",
            "3352                                   Wii Sports Resort  ...       33.00\n",
            "7829                            Pokemon Red/Pokemon Blue  ...       31.38\n",
            "...                                                  ...  ...         ...\n",
            "14265         Nitroplus Blasterz: Heroines Infinite Duel  ...        0.01\n",
            "2311   Shinseiki Evangelion: Koutetsu no Girlfriend 2...  ...        0.01\n",
            "11376                                     Rail Simulator  ...        0.01\n",
            "3571                         Hyperdimension Neptunia mk2  ...        0.01\n",
            "5598    SCORE International Baja 1000: The Official Game  ...        0.00\n",
            "\n",
            "[16241 rows x 10 columns]\n"
          ],
          "name": "stdout"
        }
      ]
    },
    {
      "cell_type": "code",
      "metadata": {
        "colab": {
          "base_uri": "https://localhost:8080/",
          "height": 286
        },
        "id": "tiSrfhAKHmQS",
        "outputId": "5225dee0-c07b-40ff-b026-c37e8b1e1fcf"
      },
      "source": [
        "df_drop_nan.describe()"
      ],
      "execution_count": 13,
      "outputs": [
        {
          "output_type": "execute_result",
          "data": {
            "text/html": [
              "<div>\n",
              "<style scoped>\n",
              "    .dataframe tbody tr th:only-of-type {\n",
              "        vertical-align: middle;\n",
              "    }\n",
              "\n",
              "    .dataframe tbody tr th {\n",
              "        vertical-align: top;\n",
              "    }\n",
              "\n",
              "    .dataframe thead th {\n",
              "        text-align: right;\n",
              "    }\n",
              "</style>\n",
              "<table border=\"1\" class=\"dataframe\">\n",
              "  <thead>\n",
              "    <tr style=\"text-align: right;\">\n",
              "      <th></th>\n",
              "      <th>Year</th>\n",
              "      <th>NA_Sales</th>\n",
              "      <th>EU_Sales</th>\n",
              "      <th>JP_Sales</th>\n",
              "      <th>Other_Sales</th>\n",
              "      <th>total_sales</th>\n",
              "    </tr>\n",
              "  </thead>\n",
              "  <tbody>\n",
              "    <tr>\n",
              "      <th>count</th>\n",
              "      <td>16241.000000</td>\n",
              "      <td>16241.000000</td>\n",
              "      <td>16241.000000</td>\n",
              "      <td>16241.000000</td>\n",
              "      <td>16241.000000</td>\n",
              "      <td>16241.000000</td>\n",
              "    </tr>\n",
              "    <tr>\n",
              "      <th>mean</th>\n",
              "      <td>1994.178437</td>\n",
              "      <td>0.265195</td>\n",
              "      <td>0.147378</td>\n",
              "      <td>0.078283</td>\n",
              "      <td>0.048234</td>\n",
              "      <td>0.539091</td>\n",
              "    </tr>\n",
              "    <tr>\n",
              "      <th>std</th>\n",
              "      <td>155.484265</td>\n",
              "      <td>0.822431</td>\n",
              "      <td>0.508340</td>\n",
              "      <td>0.309272</td>\n",
              "      <td>0.189678</td>\n",
              "      <td>1.563905</td>\n",
              "    </tr>\n",
              "    <tr>\n",
              "      <th>min</th>\n",
              "      <td>0.000000</td>\n",
              "      <td>0.000000</td>\n",
              "      <td>0.000000</td>\n",
              "      <td>0.000000</td>\n",
              "      <td>0.000000</td>\n",
              "      <td>0.000000</td>\n",
              "    </tr>\n",
              "    <tr>\n",
              "      <th>25%</th>\n",
              "      <td>2003.000000</td>\n",
              "      <td>0.000000</td>\n",
              "      <td>0.000000</td>\n",
              "      <td>0.000000</td>\n",
              "      <td>0.000000</td>\n",
              "      <td>0.060000</td>\n",
              "    </tr>\n",
              "    <tr>\n",
              "      <th>50%</th>\n",
              "      <td>2007.000000</td>\n",
              "      <td>0.080000</td>\n",
              "      <td>0.020000</td>\n",
              "      <td>0.000000</td>\n",
              "      <td>0.010000</td>\n",
              "      <td>0.170000</td>\n",
              "    </tr>\n",
              "    <tr>\n",
              "      <th>75%</th>\n",
              "      <td>2010.000000</td>\n",
              "      <td>0.240000</td>\n",
              "      <td>0.110000</td>\n",
              "      <td>0.040000</td>\n",
              "      <td>0.040000</td>\n",
              "      <td>0.480000</td>\n",
              "    </tr>\n",
              "    <tr>\n",
              "      <th>max</th>\n",
              "      <td>2020.000000</td>\n",
              "      <td>41.490000</td>\n",
              "      <td>29.020000</td>\n",
              "      <td>10.220000</td>\n",
              "      <td>10.570000</td>\n",
              "      <td>82.740000</td>\n",
              "    </tr>\n",
              "  </tbody>\n",
              "</table>\n",
              "</div>"
            ],
            "text/plain": [
              "               Year      NA_Sales  ...   Other_Sales   total_sales\n",
              "count  16241.000000  16241.000000  ...  16241.000000  16241.000000\n",
              "mean    1994.178437      0.265195  ...      0.048234      0.539091\n",
              "std      155.484265      0.822431  ...      0.189678      1.563905\n",
              "min        0.000000      0.000000  ...      0.000000      0.000000\n",
              "25%     2003.000000      0.000000  ...      0.000000      0.060000\n",
              "50%     2007.000000      0.080000  ...      0.010000      0.170000\n",
              "75%     2010.000000      0.240000  ...      0.040000      0.480000\n",
              "max     2020.000000     41.490000  ...     10.570000     82.740000\n",
              "\n",
              "[8 rows x 6 columns]"
            ]
          },
          "metadata": {
            "tags": []
          },
          "execution_count": 13
        }
      ]
    },
    {
      "cell_type": "code",
      "metadata": {
        "id": "_FpyMM-PmiZW"
      },
      "source": [
        "#Year 값 결측치 처리#\n",
        "\n",
        "\n",
        "#최소 0년부터 2020년까지 있다.\n",
        "\n",
        "#최초의 비디오 게임은 1950년대 초에 등장\n",
        "\n",
        "##year에 0~16까지 있고 86,94,95, 96,97,98이 있다.\n",
        "#이 값들의 의미는 분명 있을 것이다.알아보자.\n"
      ],
      "execution_count": 20,
      "outputs": []
    },
    {
      "cell_type": "markdown",
      "metadata": {
        "id": "ohhozGWtTPfe"
      },
      "source": [
        " 최초의 비디오 게임은 1950년대 초에 등장\n",
        "1980년대 이후로, 비디오 게임은 대중적인 형태의 엔터테인먼트이자 현대 대중문화의 일부로 되었다. \n",
        "아케이드 게임의 황금기는 1978~1982년\n",
        "\n",
        "\n",
        "# 세대별 플랫폼\n",
        "1세대 -마그나북스 오디세이, 아타리 퐁\n",
        "\n",
        "2세대 -마그나북스 오디세이2, 아타리 2600, 인텔리비전, 카세트비전\n",
        "\n",
        "3세대(83~95년) -패밀리 컴퓨터, 아타리 7800, 세가 마크Ⅲ, 슈퍼카세트비전, 재믹스\n",
        "\n",
        "4세대(87~95년) -슈퍼 패미컴, 메가 드라이브, CD-i, 네오지오, PC엔진\n",
        "\n",
        "5세대(1993~2006년) -닌텐도64, 세가 새턴, 플레이스테이션, 아타리 재규어, PC-FX, 3DO\n",
        "\n",
        "6세대(1998~2013년) -게임큐브, 드림캐스트, 플레이스테이션2, 엑스박스\n",
        "\n",
        "7세대 -Wii, 플레이스테이션3, 엑스박스360\n",
        "\n",
        "8세대 -Wii U, 플레이스테이션4, 엑스박스 원, 닌텐도 스위치\n",
        "\n",
        "https://ko.wikipedia.org/wiki/%EB%B9%84%EB%94%94%EC%98%A4_%EA%B2%8C%EC%9E%84%EC%9D%98_%EC%97%AD%EC%82%AC#2%EC%84%B8%EB%8C%80_%EC%BD%98%EC%86%94_(1976~1992%EB%85%84)"
      ]
    },
    {
      "cell_type": "code",
      "metadata": {
        "colab": {
          "base_uri": "https://localhost:8080/",
          "height": 197
        },
        "id": "YfrnDDNHAybG",
        "outputId": "bc41453d-807a-4702-d521-22cff3dc1d0b"
      },
      "source": [
        "df_drop_nan.head()"
      ],
      "execution_count": 14,
      "outputs": [
        {
          "output_type": "execute_result",
          "data": {
            "text/html": [
              "<div>\n",
              "<style scoped>\n",
              "    .dataframe tbody tr th:only-of-type {\n",
              "        vertical-align: middle;\n",
              "    }\n",
              "\n",
              "    .dataframe tbody tr th {\n",
              "        vertical-align: top;\n",
              "    }\n",
              "\n",
              "    .dataframe thead th {\n",
              "        text-align: right;\n",
              "    }\n",
              "</style>\n",
              "<table border=\"1\" class=\"dataframe\">\n",
              "  <thead>\n",
              "    <tr style=\"text-align: right;\">\n",
              "      <th></th>\n",
              "      <th>Name</th>\n",
              "      <th>Platform</th>\n",
              "      <th>Year</th>\n",
              "      <th>Genre</th>\n",
              "      <th>Publisher</th>\n",
              "      <th>NA_Sales</th>\n",
              "      <th>EU_Sales</th>\n",
              "      <th>JP_Sales</th>\n",
              "      <th>Other_Sales</th>\n",
              "      <th>total_sales</th>\n",
              "    </tr>\n",
              "  </thead>\n",
              "  <tbody>\n",
              "    <tr>\n",
              "      <th>2908</th>\n",
              "      <td>Wii Sports</td>\n",
              "      <td>Wii</td>\n",
              "      <td>2006.0</td>\n",
              "      <td>Sports</td>\n",
              "      <td>Nintendo</td>\n",
              "      <td>41.49</td>\n",
              "      <td>29.02</td>\n",
              "      <td>3.77</td>\n",
              "      <td>8.46</td>\n",
              "      <td>82.74</td>\n",
              "    </tr>\n",
              "    <tr>\n",
              "      <th>4199</th>\n",
              "      <td>Super Mario Bros.</td>\n",
              "      <td>NES</td>\n",
              "      <td>1985.0</td>\n",
              "      <td>Platform</td>\n",
              "      <td>Nintendo</td>\n",
              "      <td>29.08</td>\n",
              "      <td>3.58</td>\n",
              "      <td>6.81</td>\n",
              "      <td>0.77</td>\n",
              "      <td>40.24</td>\n",
              "    </tr>\n",
              "    <tr>\n",
              "      <th>12579</th>\n",
              "      <td>Mario Kart Wii</td>\n",
              "      <td>Wii</td>\n",
              "      <td>2008.0</td>\n",
              "      <td>Racing</td>\n",
              "      <td>Nintendo</td>\n",
              "      <td>15.85</td>\n",
              "      <td>12.88</td>\n",
              "      <td>3.79</td>\n",
              "      <td>3.31</td>\n",
              "      <td>35.83</td>\n",
              "    </tr>\n",
              "    <tr>\n",
              "      <th>3352</th>\n",
              "      <td>Wii Sports Resort</td>\n",
              "      <td>Wii</td>\n",
              "      <td>2009.0</td>\n",
              "      <td>Sports</td>\n",
              "      <td>Nintendo</td>\n",
              "      <td>15.75</td>\n",
              "      <td>11.01</td>\n",
              "      <td>3.28</td>\n",
              "      <td>2.96</td>\n",
              "      <td>33.00</td>\n",
              "    </tr>\n",
              "    <tr>\n",
              "      <th>7829</th>\n",
              "      <td>Pokemon Red/Pokemon Blue</td>\n",
              "      <td>GB</td>\n",
              "      <td>1996.0</td>\n",
              "      <td>Role-Playing</td>\n",
              "      <td>Nintendo</td>\n",
              "      <td>11.27</td>\n",
              "      <td>8.89</td>\n",
              "      <td>10.22</td>\n",
              "      <td>1.00</td>\n",
              "      <td>31.38</td>\n",
              "    </tr>\n",
              "  </tbody>\n",
              "</table>\n",
              "</div>"
            ],
            "text/plain": [
              "                           Name Platform  ...  Other_Sales total_sales\n",
              "2908                 Wii Sports      Wii  ...         8.46       82.74\n",
              "4199          Super Mario Bros.      NES  ...         0.77       40.24\n",
              "12579            Mario Kart Wii      Wii  ...         3.31       35.83\n",
              "3352          Wii Sports Resort      Wii  ...         2.96       33.00\n",
              "7829   Pokemon Red/Pokemon Blue       GB  ...         1.00       31.38\n",
              "\n",
              "[5 rows x 10 columns]"
            ]
          },
          "metadata": {
            "tags": []
          },
          "execution_count": 14
        }
      ]
    },
    {
      "cell_type": "code",
      "metadata": {
        "id": "XjsS5T2kTO6J"
      },
      "source": [
        "# year가 0~16년 사이에 있는 값은 2000년대 출시한 플랫폼이다.\n",
        "# 86~98년 사이에 있는 값은 1990년대 출시한 플랫폼이다.\n",
        "\n",
        "# 20이하는 2000을 더해준다.  20보다 크고 100 이하는 1900을 더해줘서 1900년대로 맞춰준다.\n",
        "def set (x): #30년 이하는 2000년도 발행일테고 30년 이상은 1900년 발행일 것이다. - 왜냐하면 6.25 이전에는 비디오 게임이 안나왔으니까! #사실 밑에서 확인가능 \n",
        "    if x < 30 :\n",
        "        return x + 2000\n",
        "    elif x >= 30 and x < 100 :\n",
        "        return x + 1900\n",
        "    else:\n",
        "        return x"
      ],
      "execution_count": 15,
      "outputs": []
    },
    {
      "cell_type": "code",
      "metadata": {
        "colab": {
          "base_uri": "https://localhost:8080/"
        },
        "id": "y-UUPg3W-zC8",
        "outputId": "33c8c8e7-b192-46c1-c3b5-5dd27386a0d1"
      },
      "source": [
        "df_drop_nan1 = df_drop_nan[\"Year\"].apply(lambda x : set(x)) # 기존에 있던 df_drop_nan에 있던 Year 열의 값에 함수를 적용한 것을 df_drop_nan1에 지정해준다.\n",
        "df_drop_nan1.mean() "
      ],
      "execution_count": 16,
      "outputs": [
        {
          "output_type": "execute_result",
          "data": {
            "text/plain": [
              "2006.4067483529338"
            ]
          },
          "metadata": {
            "tags": []
          },
          "execution_count": 16
        }
      ]
    },
    {
      "cell_type": "code",
      "metadata": {
        "id": "Q126M1TScJsi"
      },
      "source": [
        "a = df_drop_nan.drop(['Year'], axis = 1)  # df_drop_nan.drop를 a로 지정하고 함수에 적용한 결측치를 제거한 Year열을 기존에 있던 df_drop_nan1에 추가를 한다."
      ],
      "execution_count": 17,
      "outputs": []
    },
    {
      "cell_type": "code",
      "metadata": {
        "colab": {
          "base_uri": "https://localhost:8080/",
          "height": 286
        },
        "id": "8DOuXHSsbwKZ",
        "outputId": "410675a2-8c26-4415-eb15-c1bfe165fcc5"
      },
      "source": [
        "df_add_new_year = pd.concat([df_drop_nan1, a], axis = 1)\n",
        "df_add_new_year.describe()"
      ],
      "execution_count": 18,
      "outputs": [
        {
          "output_type": "execute_result",
          "data": {
            "text/html": [
              "<div>\n",
              "<style scoped>\n",
              "    .dataframe tbody tr th:only-of-type {\n",
              "        vertical-align: middle;\n",
              "    }\n",
              "\n",
              "    .dataframe tbody tr th {\n",
              "        vertical-align: top;\n",
              "    }\n",
              "\n",
              "    .dataframe thead th {\n",
              "        text-align: right;\n",
              "    }\n",
              "</style>\n",
              "<table border=\"1\" class=\"dataframe\">\n",
              "  <thead>\n",
              "    <tr style=\"text-align: right;\">\n",
              "      <th></th>\n",
              "      <th>Year</th>\n",
              "      <th>NA_Sales</th>\n",
              "      <th>EU_Sales</th>\n",
              "      <th>JP_Sales</th>\n",
              "      <th>Other_Sales</th>\n",
              "      <th>total_sales</th>\n",
              "    </tr>\n",
              "  </thead>\n",
              "  <tbody>\n",
              "    <tr>\n",
              "      <th>count</th>\n",
              "      <td>16241.000000</td>\n",
              "      <td>16241.000000</td>\n",
              "      <td>16241.000000</td>\n",
              "      <td>16241.000000</td>\n",
              "      <td>16241.000000</td>\n",
              "      <td>16241.000000</td>\n",
              "    </tr>\n",
              "    <tr>\n",
              "      <th>mean</th>\n",
              "      <td>2006.406748</td>\n",
              "      <td>0.265195</td>\n",
              "      <td>0.147378</td>\n",
              "      <td>0.078283</td>\n",
              "      <td>0.048234</td>\n",
              "      <td>0.539091</td>\n",
              "    </tr>\n",
              "    <tr>\n",
              "      <th>std</th>\n",
              "      <td>5.832087</td>\n",
              "      <td>0.822431</td>\n",
              "      <td>0.508340</td>\n",
              "      <td>0.309272</td>\n",
              "      <td>0.189678</td>\n",
              "      <td>1.563905</td>\n",
              "    </tr>\n",
              "    <tr>\n",
              "      <th>min</th>\n",
              "      <td>1980.000000</td>\n",
              "      <td>0.000000</td>\n",
              "      <td>0.000000</td>\n",
              "      <td>0.000000</td>\n",
              "      <td>0.000000</td>\n",
              "      <td>0.000000</td>\n",
              "    </tr>\n",
              "    <tr>\n",
              "      <th>25%</th>\n",
              "      <td>2003.000000</td>\n",
              "      <td>0.000000</td>\n",
              "      <td>0.000000</td>\n",
              "      <td>0.000000</td>\n",
              "      <td>0.000000</td>\n",
              "      <td>0.060000</td>\n",
              "    </tr>\n",
              "    <tr>\n",
              "      <th>50%</th>\n",
              "      <td>2007.000000</td>\n",
              "      <td>0.080000</td>\n",
              "      <td>0.020000</td>\n",
              "      <td>0.000000</td>\n",
              "      <td>0.010000</td>\n",
              "      <td>0.170000</td>\n",
              "    </tr>\n",
              "    <tr>\n",
              "      <th>75%</th>\n",
              "      <td>2010.000000</td>\n",
              "      <td>0.240000</td>\n",
              "      <td>0.110000</td>\n",
              "      <td>0.040000</td>\n",
              "      <td>0.040000</td>\n",
              "      <td>0.480000</td>\n",
              "    </tr>\n",
              "    <tr>\n",
              "      <th>max</th>\n",
              "      <td>2020.000000</td>\n",
              "      <td>41.490000</td>\n",
              "      <td>29.020000</td>\n",
              "      <td>10.220000</td>\n",
              "      <td>10.570000</td>\n",
              "      <td>82.740000</td>\n",
              "    </tr>\n",
              "  </tbody>\n",
              "</table>\n",
              "</div>"
            ],
            "text/plain": [
              "               Year      NA_Sales  ...   Other_Sales   total_sales\n",
              "count  16241.000000  16241.000000  ...  16241.000000  16241.000000\n",
              "mean    2006.406748      0.265195  ...      0.048234      0.539091\n",
              "std        5.832087      0.822431  ...      0.189678      1.563905\n",
              "min     1980.000000      0.000000  ...      0.000000      0.000000\n",
              "25%     2003.000000      0.000000  ...      0.000000      0.060000\n",
              "50%     2007.000000      0.080000  ...      0.010000      0.170000\n",
              "75%     2010.000000      0.240000  ...      0.040000      0.480000\n",
              "max     2020.000000     41.490000  ...     10.570000     82.740000\n",
              "\n",
              "[8 rows x 6 columns]"
            ]
          },
          "metadata": {
            "tags": []
          },
          "execution_count": 18
        }
      ]
    },
    {
      "cell_type": "code",
      "metadata": {
        "colab": {
          "base_uri": "https://localhost:8080/",
          "height": 405
        },
        "id": "B7EcTY1ualGr",
        "outputId": "59fd0031-9f28-4424-c466-e8587571780c"
      },
      "source": [
        "data = df_add_new_year # 데이터 전처리 완룐ata = df_add_new_year # 데이터 전처리 완료\n",
        "data"
      ],
      "execution_count": 19,
      "outputs": [
        {
          "output_type": "execute_result",
          "data": {
            "text/html": [
              "<div>\n",
              "<style scoped>\n",
              "    .dataframe tbody tr th:only-of-type {\n",
              "        vertical-align: middle;\n",
              "    }\n",
              "\n",
              "    .dataframe tbody tr th {\n",
              "        vertical-align: top;\n",
              "    }\n",
              "\n",
              "    .dataframe thead th {\n",
              "        text-align: right;\n",
              "    }\n",
              "</style>\n",
              "<table border=\"1\" class=\"dataframe\">\n",
              "  <thead>\n",
              "    <tr style=\"text-align: right;\">\n",
              "      <th></th>\n",
              "      <th>Year</th>\n",
              "      <th>Name</th>\n",
              "      <th>Platform</th>\n",
              "      <th>Genre</th>\n",
              "      <th>Publisher</th>\n",
              "      <th>NA_Sales</th>\n",
              "      <th>EU_Sales</th>\n",
              "      <th>JP_Sales</th>\n",
              "      <th>Other_Sales</th>\n",
              "      <th>total_sales</th>\n",
              "    </tr>\n",
              "  </thead>\n",
              "  <tbody>\n",
              "    <tr>\n",
              "      <th>2908</th>\n",
              "      <td>2006.0</td>\n",
              "      <td>Wii Sports</td>\n",
              "      <td>Wii</td>\n",
              "      <td>Sports</td>\n",
              "      <td>Nintendo</td>\n",
              "      <td>41.49</td>\n",
              "      <td>29.02</td>\n",
              "      <td>3.77</td>\n",
              "      <td>8.46</td>\n",
              "      <td>82.74</td>\n",
              "    </tr>\n",
              "    <tr>\n",
              "      <th>4199</th>\n",
              "      <td>1985.0</td>\n",
              "      <td>Super Mario Bros.</td>\n",
              "      <td>NES</td>\n",
              "      <td>Platform</td>\n",
              "      <td>Nintendo</td>\n",
              "      <td>29.08</td>\n",
              "      <td>3.58</td>\n",
              "      <td>6.81</td>\n",
              "      <td>0.77</td>\n",
              "      <td>40.24</td>\n",
              "    </tr>\n",
              "    <tr>\n",
              "      <th>12579</th>\n",
              "      <td>2008.0</td>\n",
              "      <td>Mario Kart Wii</td>\n",
              "      <td>Wii</td>\n",
              "      <td>Racing</td>\n",
              "      <td>Nintendo</td>\n",
              "      <td>15.85</td>\n",
              "      <td>12.88</td>\n",
              "      <td>3.79</td>\n",
              "      <td>3.31</td>\n",
              "      <td>35.83</td>\n",
              "    </tr>\n",
              "    <tr>\n",
              "      <th>3352</th>\n",
              "      <td>2009.0</td>\n",
              "      <td>Wii Sports Resort</td>\n",
              "      <td>Wii</td>\n",
              "      <td>Sports</td>\n",
              "      <td>Nintendo</td>\n",
              "      <td>15.75</td>\n",
              "      <td>11.01</td>\n",
              "      <td>3.28</td>\n",
              "      <td>2.96</td>\n",
              "      <td>33.00</td>\n",
              "    </tr>\n",
              "    <tr>\n",
              "      <th>7829</th>\n",
              "      <td>1996.0</td>\n",
              "      <td>Pokemon Red/Pokemon Blue</td>\n",
              "      <td>GB</td>\n",
              "      <td>Role-Playing</td>\n",
              "      <td>Nintendo</td>\n",
              "      <td>11.27</td>\n",
              "      <td>8.89</td>\n",
              "      <td>10.22</td>\n",
              "      <td>1.00</td>\n",
              "      <td>31.38</td>\n",
              "    </tr>\n",
              "    <tr>\n",
              "      <th>...</th>\n",
              "      <td>...</td>\n",
              "      <td>...</td>\n",
              "      <td>...</td>\n",
              "      <td>...</td>\n",
              "      <td>...</td>\n",
              "      <td>...</td>\n",
              "      <td>...</td>\n",
              "      <td>...</td>\n",
              "      <td>...</td>\n",
              "      <td>...</td>\n",
              "    </tr>\n",
              "    <tr>\n",
              "      <th>14265</th>\n",
              "      <td>2015.0</td>\n",
              "      <td>Nitroplus Blasterz: Heroines Infinite Duel</td>\n",
              "      <td>PS3</td>\n",
              "      <td>Fighting</td>\n",
              "      <td>Nitroplus</td>\n",
              "      <td>0.00</td>\n",
              "      <td>0.00</td>\n",
              "      <td>0.01</td>\n",
              "      <td>0.00</td>\n",
              "      <td>0.01</td>\n",
              "    </tr>\n",
              "    <tr>\n",
              "      <th>2311</th>\n",
              "      <td>2009.0</td>\n",
              "      <td>Shinseiki Evangelion: Koutetsu no Girlfriend 2...</td>\n",
              "      <td>PSP</td>\n",
              "      <td>Adventure</td>\n",
              "      <td>CyberFront</td>\n",
              "      <td>0.00</td>\n",
              "      <td>0.00</td>\n",
              "      <td>0.01</td>\n",
              "      <td>0.00</td>\n",
              "      <td>0.01</td>\n",
              "    </tr>\n",
              "    <tr>\n",
              "      <th>11376</th>\n",
              "      <td>2007.0</td>\n",
              "      <td>Rail Simulator</td>\n",
              "      <td>PC</td>\n",
              "      <td>Simulation</td>\n",
              "      <td>Electronic Arts</td>\n",
              "      <td>0.00</td>\n",
              "      <td>0.01</td>\n",
              "      <td>0.00</td>\n",
              "      <td>0.00</td>\n",
              "      <td>0.01</td>\n",
              "    </tr>\n",
              "    <tr>\n",
              "      <th>3571</th>\n",
              "      <td>2011.0</td>\n",
              "      <td>Hyperdimension Neptunia mk2</td>\n",
              "      <td>PS3</td>\n",
              "      <td>Action</td>\n",
              "      <td>Nippon Ichi Software</td>\n",
              "      <td>0.00</td>\n",
              "      <td>0.01</td>\n",
              "      <td>0.00</td>\n",
              "      <td>0.00</td>\n",
              "      <td>0.01</td>\n",
              "    </tr>\n",
              "    <tr>\n",
              "      <th>5598</th>\n",
              "      <td>2008.0</td>\n",
              "      <td>SCORE International Baja 1000: The Official Game</td>\n",
              "      <td>PS2</td>\n",
              "      <td>Racing</td>\n",
              "      <td>Activision</td>\n",
              "      <td>0.00</td>\n",
              "      <td>0.00</td>\n",
              "      <td>0.00</td>\n",
              "      <td>0.00</td>\n",
              "      <td>0.00</td>\n",
              "    </tr>\n",
              "  </tbody>\n",
              "</table>\n",
              "<p>16241 rows × 10 columns</p>\n",
              "</div>"
            ],
            "text/plain": [
              "         Year  ... total_sales\n",
              "2908   2006.0  ...       82.74\n",
              "4199   1985.0  ...       40.24\n",
              "12579  2008.0  ...       35.83\n",
              "3352   2009.0  ...       33.00\n",
              "7829   1996.0  ...       31.38\n",
              "...       ...  ...         ...\n",
              "14265  2015.0  ...        0.01\n",
              "2311   2009.0  ...        0.01\n",
              "11376  2007.0  ...        0.01\n",
              "3571   2011.0  ...        0.01\n",
              "5598   2008.0  ...        0.00\n",
              "\n",
              "[16241 rows x 10 columns]"
            ]
          },
          "metadata": {
            "tags": []
          },
          "execution_count": 19
        }
      ]
    },
    {
      "cell_type": "code",
      "metadata": {
        "colab": {
          "base_uri": "https://localhost:8080/"
        },
        "id": "Eo2jUy8J9eSI",
        "outputId": "d371fcd0-f799-4993-d49f-552f18aa4334"
      },
      "source": [
        "data.isnull().sum() # 전체data에 결측치가 0인 것을 확인하였다.\n",
        "# 데이터 전처리 완료"
      ],
      "execution_count": 20,
      "outputs": [
        {
          "output_type": "execute_result",
          "data": {
            "text/plain": [
              "Year           0\n",
              "Name           0\n",
              "Platform       0\n",
              "Genre          0\n",
              "Publisher      0\n",
              "NA_Sales       0\n",
              "EU_Sales       0\n",
              "JP_Sales       0\n",
              "Other_Sales    0\n",
              "total_sales    0\n",
              "dtype: int64"
            ]
          },
          "metadata": {
            "tags": []
          },
          "execution_count": 20
        }
      ]
    },
    {
      "cell_type": "code",
      "metadata": {
        "colab": {
          "base_uri": "https://localhost:8080/"
        },
        "id": "0Zk-xGod_BYc",
        "outputId": "9115871a-be88-4499-f8a5-75a4b5884a18"
      },
      "source": [
        "data.shape\n",
        "#\n",
        "# 기존 df (16598, 9) 인데 데이터 전처리 하니까 (16241, 10) 변경됨\n",
        "# 행 값 257개 없애버림"
      ],
      "execution_count": 21,
      "outputs": [
        {
          "output_type": "execute_result",
          "data": {
            "text/plain": [
              "(16241, 10)"
            ]
          },
          "metadata": {
            "tags": []
          },
          "execution_count": 21
        }
      ]
    },
    {
      "cell_type": "markdown",
      "metadata": {
        "id": "sJU7xX6QGWEo"
      },
      "source": [
        "# 1. 지역에 따라 선호하는 게임 장르가 다를까?\n",
        "\n",
        "가정 - 수익이 높으면 선호도가 높을 것이다.\n",
        "\n",
        "귀무가설 : 지역과 선호장르는 관련이 없다.\n",
        "\n",
        "대립가설 : 지역과 선호장르는 관련이 있다.\n",
        "\n"
      ]
    },
    {
      "cell_type": "code",
      "metadata": {
        "colab": {
          "base_uri": "https://localhost:8080/",
          "height": 405
        },
        "id": "i3_tE7EAPjdI",
        "outputId": "6dee6943-d5ef-422f-c648-048e327b7a5b"
      },
      "source": [
        "data"
      ],
      "execution_count": 27,
      "outputs": [
        {
          "output_type": "execute_result",
          "data": {
            "text/html": [
              "<div>\n",
              "<style scoped>\n",
              "    .dataframe tbody tr th:only-of-type {\n",
              "        vertical-align: middle;\n",
              "    }\n",
              "\n",
              "    .dataframe tbody tr th {\n",
              "        vertical-align: top;\n",
              "    }\n",
              "\n",
              "    .dataframe thead th {\n",
              "        text-align: right;\n",
              "    }\n",
              "</style>\n",
              "<table border=\"1\" class=\"dataframe\">\n",
              "  <thead>\n",
              "    <tr style=\"text-align: right;\">\n",
              "      <th></th>\n",
              "      <th>Year</th>\n",
              "      <th>Name</th>\n",
              "      <th>Platform</th>\n",
              "      <th>Genre</th>\n",
              "      <th>Publisher</th>\n",
              "      <th>NA_Sales</th>\n",
              "      <th>EU_Sales</th>\n",
              "      <th>JP_Sales</th>\n",
              "      <th>Other_Sales</th>\n",
              "      <th>total_sales</th>\n",
              "    </tr>\n",
              "  </thead>\n",
              "  <tbody>\n",
              "    <tr>\n",
              "      <th>2908</th>\n",
              "      <td>2006.0</td>\n",
              "      <td>Wii Sports</td>\n",
              "      <td>Wii</td>\n",
              "      <td>Sports</td>\n",
              "      <td>Nintendo</td>\n",
              "      <td>41.49</td>\n",
              "      <td>29.02</td>\n",
              "      <td>3.77</td>\n",
              "      <td>8.46</td>\n",
              "      <td>82.74</td>\n",
              "    </tr>\n",
              "    <tr>\n",
              "      <th>4199</th>\n",
              "      <td>1985.0</td>\n",
              "      <td>Super Mario Bros.</td>\n",
              "      <td>NES</td>\n",
              "      <td>Platform</td>\n",
              "      <td>Nintendo</td>\n",
              "      <td>29.08</td>\n",
              "      <td>3.58</td>\n",
              "      <td>6.81</td>\n",
              "      <td>0.77</td>\n",
              "      <td>40.24</td>\n",
              "    </tr>\n",
              "    <tr>\n",
              "      <th>12579</th>\n",
              "      <td>2008.0</td>\n",
              "      <td>Mario Kart Wii</td>\n",
              "      <td>Wii</td>\n",
              "      <td>Racing</td>\n",
              "      <td>Nintendo</td>\n",
              "      <td>15.85</td>\n",
              "      <td>12.88</td>\n",
              "      <td>3.79</td>\n",
              "      <td>3.31</td>\n",
              "      <td>35.83</td>\n",
              "    </tr>\n",
              "    <tr>\n",
              "      <th>3352</th>\n",
              "      <td>2009.0</td>\n",
              "      <td>Wii Sports Resort</td>\n",
              "      <td>Wii</td>\n",
              "      <td>Sports</td>\n",
              "      <td>Nintendo</td>\n",
              "      <td>15.75</td>\n",
              "      <td>11.01</td>\n",
              "      <td>3.28</td>\n",
              "      <td>2.96</td>\n",
              "      <td>33.00</td>\n",
              "    </tr>\n",
              "    <tr>\n",
              "      <th>7829</th>\n",
              "      <td>1996.0</td>\n",
              "      <td>Pokemon Red/Pokemon Blue</td>\n",
              "      <td>GB</td>\n",
              "      <td>Role-Playing</td>\n",
              "      <td>Nintendo</td>\n",
              "      <td>11.27</td>\n",
              "      <td>8.89</td>\n",
              "      <td>10.22</td>\n",
              "      <td>1.00</td>\n",
              "      <td>31.38</td>\n",
              "    </tr>\n",
              "    <tr>\n",
              "      <th>...</th>\n",
              "      <td>...</td>\n",
              "      <td>...</td>\n",
              "      <td>...</td>\n",
              "      <td>...</td>\n",
              "      <td>...</td>\n",
              "      <td>...</td>\n",
              "      <td>...</td>\n",
              "      <td>...</td>\n",
              "      <td>...</td>\n",
              "      <td>...</td>\n",
              "    </tr>\n",
              "    <tr>\n",
              "      <th>14265</th>\n",
              "      <td>2015.0</td>\n",
              "      <td>Nitroplus Blasterz: Heroines Infinite Duel</td>\n",
              "      <td>PS3</td>\n",
              "      <td>Fighting</td>\n",
              "      <td>Nitroplus</td>\n",
              "      <td>0.00</td>\n",
              "      <td>0.00</td>\n",
              "      <td>0.01</td>\n",
              "      <td>0.00</td>\n",
              "      <td>0.01</td>\n",
              "    </tr>\n",
              "    <tr>\n",
              "      <th>2311</th>\n",
              "      <td>2009.0</td>\n",
              "      <td>Shinseiki Evangelion: Koutetsu no Girlfriend 2...</td>\n",
              "      <td>PSP</td>\n",
              "      <td>Adventure</td>\n",
              "      <td>CyberFront</td>\n",
              "      <td>0.00</td>\n",
              "      <td>0.00</td>\n",
              "      <td>0.01</td>\n",
              "      <td>0.00</td>\n",
              "      <td>0.01</td>\n",
              "    </tr>\n",
              "    <tr>\n",
              "      <th>11376</th>\n",
              "      <td>2007.0</td>\n",
              "      <td>Rail Simulator</td>\n",
              "      <td>PC</td>\n",
              "      <td>Simulation</td>\n",
              "      <td>Electronic Arts</td>\n",
              "      <td>0.00</td>\n",
              "      <td>0.01</td>\n",
              "      <td>0.00</td>\n",
              "      <td>0.00</td>\n",
              "      <td>0.01</td>\n",
              "    </tr>\n",
              "    <tr>\n",
              "      <th>3571</th>\n",
              "      <td>2011.0</td>\n",
              "      <td>Hyperdimension Neptunia mk2</td>\n",
              "      <td>PS3</td>\n",
              "      <td>Action</td>\n",
              "      <td>Nippon Ichi Software</td>\n",
              "      <td>0.00</td>\n",
              "      <td>0.01</td>\n",
              "      <td>0.00</td>\n",
              "      <td>0.00</td>\n",
              "      <td>0.01</td>\n",
              "    </tr>\n",
              "    <tr>\n",
              "      <th>5598</th>\n",
              "      <td>2008.0</td>\n",
              "      <td>SCORE International Baja 1000: The Official Game</td>\n",
              "      <td>PS2</td>\n",
              "      <td>Racing</td>\n",
              "      <td>Activision</td>\n",
              "      <td>0.00</td>\n",
              "      <td>0.00</td>\n",
              "      <td>0.00</td>\n",
              "      <td>0.00</td>\n",
              "      <td>0.00</td>\n",
              "    </tr>\n",
              "  </tbody>\n",
              "</table>\n",
              "<p>16241 rows × 10 columns</p>\n",
              "</div>"
            ],
            "text/plain": [
              "         Year  ... total_sales\n",
              "2908   2006.0  ...       82.74\n",
              "4199   1985.0  ...       40.24\n",
              "12579  2008.0  ...       35.83\n",
              "3352   2009.0  ...       33.00\n",
              "7829   1996.0  ...       31.38\n",
              "...       ...  ...         ...\n",
              "14265  2015.0  ...        0.01\n",
              "2311   2009.0  ...        0.01\n",
              "11376  2007.0  ...        0.01\n",
              "3571   2011.0  ...        0.01\n",
              "5598   2008.0  ...        0.00\n",
              "\n",
              "[16241 rows x 10 columns]"
            ]
          },
          "metadata": {
            "tags": []
          },
          "execution_count": 27
        }
      ]
    },
    {
      "cell_type": "code",
      "metadata": {
        "id": "Tuwya0v1Kk7l"
      },
      "source": [
        "# 지역과 선호장르의 관계를 파악하기 위해 카이제곱을 통해 P-value 값을 구한 후 유의수준을 확인하고 귀무가설 채택 및 기각을 결정한다.\n",
        "# 유의수준만 보고 판단하는 것이 아닌 "
      ],
      "execution_count": 30,
      "outputs": []
    },
    {
      "cell_type": "code",
      "metadata": {
        "id": "ER0APiX8UFwm"
      },
      "source": [
        "# df.loc[[행],[열]]  \n",
        "# df.loc[:,['year','pop']] # 모든 행(:), year, pop Column\n"
      ],
      "execution_count": 31,
      "outputs": []
    },
    {
      "cell_type": "code",
      "metadata": {
        "id": "r1zAS01-tiYe"
      },
      "source": [
        "# 가정 : 수익이 높으면 선호도가 높을 것이다.\n",
        "# 귀무가설 : 지역과 선호장르는 관련이 없다. \n",
        "# 대안가설 : 지역과 선호장르는 관련이 있다."
      ],
      "execution_count": 32,
      "outputs": []
    },
    {
      "cell_type": "code",
      "metadata": {
        "colab": {
          "base_uri": "https://localhost:8080/"
        },
        "id": "3W8lBql6FAkj",
        "outputId": "3a6d8bee-84cb-43e2-cf92-b1b013112652"
      },
      "source": [
        "from scipy.stats import chi2_contingency\n",
        "Genre = data.groupby(['Genre']).sum().loc[:, 'NA_Sales':'total_sales']\n",
        "chi2_contingency(Genre,correction=False) \n",
        "\n",
        "# P_value가 유의수준보다 더 크다. 귀무가설 채택 \n",
        "# 지역과 선호장르는 관련이 없다.\n",
        "# 다른 말로 표현하면 지역 별로 선호하는 장르는 다 다를 수도 있다고 표현한다. 꼭 선호장르가 같다고는 할 수 없다.\n",
        "\n",
        "# 인덱스 슬라이싱 참고한 블로그 https://mellowlee.tistory.com/entry/Pandas-%EB%8D%B0%EC%9D%B4%ED%84%B0-%EC%B6%94%EC%B6%9C%ED%96%89-Row-iloc-loc"
      ],
      "execution_count": 22,
      "outputs": [
        {
          "output_type": "execute_result",
          "data": {
            "text/plain": [
              "(684.3363405169148,\n",
              " 8.63692005591903e-116,\n",
              " 44,\n",
              " array([[ 842.66837143,  468.29974503,  248.7462714 ,  153.26561214,\n",
              "         1712.98      ],\n",
              "        [ 115.12174823,   63.97710792,   33.98265154,   20.93849231,\n",
              "          234.02      ],\n",
              "        [ 218.19118114,  121.25633043,   64.40759449,   39.68489393,\n",
              "          443.54      ],\n",
              "        [ 383.55878598,  213.15678595,  113.22226051,   69.76216756,\n",
              "          779.7       ],\n",
              "        [ 407.31414544,  226.35845479,  120.23457673,   74.08282303,\n",
              "          827.99      ],\n",
              "        [ 118.42260683,   65.81150838,   34.95702805,   21.53885674,\n",
              "          240.73      ],\n",
              "        [ 355.44491575,  197.53294304,  104.92336069,   64.64878052,\n",
              "          722.55      ],\n",
              "        [ 443.48093003,  246.45757869,  130.91060674,   80.66088454,\n",
              "          901.51      ],\n",
              "        [ 504.10653576,  280.14930922,  148.80660697,   91.68754804,\n",
              "         1024.75      ],\n",
              "        [ 191.49899218,  106.42256462,   56.52835908,   34.83008412,\n",
              "          389.28      ],\n",
              "        [ 642.13752173,  356.85786709,  189.55180907,  116.79280211,\n",
              "         1305.34      ],\n",
              "        [  85.09426549,   47.28980484,   25.11887472,   15.47705495,\n",
              "          172.98      ]]))"
            ]
          },
          "metadata": {
            "tags": []
          },
          "execution_count": 22
        }
      ]
    },
    {
      "cell_type": "code",
      "metadata": {
        "id": "f0P8-zbyVV1M"
      },
      "source": [
        "# 귀무가설 채택. p value가 0과 비슷하다"
      ],
      "execution_count": null,
      "outputs": []
    },
    {
      "cell_type": "code",
      "metadata": {
        "colab": {
          "base_uri": "https://localhost:8080/"
        },
        "id": "OKRLKSnkXq_w",
        "outputId": "560c1d12-59cd-47cc-bd46-f65a008e1642"
      },
      "source": [
        "# 지역별 sales 비율 확인하는 코드 ( 각 지역의 전체 sales를 total 매출에 차지하는 비율을 알아보고자 한다.)\n",
        "print('NA_Sales 총합은' , data['NA_Sales'].sum(), '이다.','전체 sales 총합에서 차지하는 비율은', (data['NA_Sales'].sum()/data['total_sales'].sum()).round(2)*100,'%이다')\n",
        "print('EU_Sales 총합은' , data['EU_Sales'].sum(), '이다.','전체 sales 총합에서 차지하는 비율은', (data['EU_Sales'].sum()/data['total_sales'].sum()).round(2)*100,'%이다')\n",
        "print('JP_Sales 총합은' , data['JP_Sales'].sum(), '이다.','전체 sales 총합에서 차지하는 비율은', (data['JP_Sales'].sum()/data['total_sales'].sum()).round(2)*100,'%이다')\n",
        "print('Other_Sales 총합은' , data['Other_Sales'].sum().round(2), '이다.','전체 sales 총합에서 차지하는 비율은', (data['Other_Sales'].sum()/data['total_sales'].sum()).round(2)*100,'%이다')\n",
        "\n",
        "\n",
        "# 이거를 시각화하는데 파이차트로 하자"
      ],
      "execution_count": 23,
      "outputs": [
        {
          "output_type": "stream",
          "text": [
            "NA_Sales 총합은 4307.04 이다. 전체 sales 총합에서 차지하는 비율은 49.0 %이다\n",
            "EU_Sales 총합은 2393.57 이다. 전체 sales 총합에서 차지하는 비율은 27.0 %이다\n",
            "JP_Sales 총합은 1271.39 이다. 전체 sales 총합에서 차지하는 비율은 15.0 %이다\n",
            "Other_Sales 총합은 783.37 이다. 전체 sales 총합에서 차지하는 비율은 9.0 %이다\n"
          ],
          "name": "stdout"
        }
      ]
    },
    {
      "cell_type": "code",
      "metadata": {
        "id": "p2EoedsqmYl6"
      },
      "source": [
        "#미국 49%, 유럽 27%, 일본 15%, 기타 9% 비율이다.\n",
        "\n",
        "#미국과 유럽의 비중이 높으며 비디오 게임은 미국에서 가장 많이 한다."
      ],
      "execution_count": 35,
      "outputs": []
    },
    {
      "cell_type": "code",
      "metadata": {
        "id": "xBYe7L4yaYgt"
      },
      "source": [
        "# 전체 판매량에서 지역별 장르의 비율을 알아보고자 한다.\n",
        "Genre = data.groupby(['Genre']).sum().loc[:, 'NA_Sales':'total_sales'] # 장르를 기준으로 각 지역 sales를 전체 판매량에서 지역별 장르의 비율을 알아보고자 한다.\n",
        "Genre['NA_Sales'] = Genre['NA_Sales']/Genre['total_sales']\n",
        "Genre['EU_Sales'] = Genre['EU_Sales']/Genre['total_sales']\n",
        "Genre['JP_Sales'] = Genre['JP_Sales']/Genre['total_sales']\n",
        "Genre['Other_Sales'] = Genre['Other_Sales']/Genre['total_sales'] \n"
      ],
      "execution_count": 42,
      "outputs": []
    },
    {
      "cell_type": "code",
      "metadata": {
        "colab": {
          "base_uri": "https://localhost:8080/",
          "height": 574
        },
        "id": "Iyb_rGdnbK2z",
        "outputId": "1ab4c965-d17f-46ba-9847-2ebb91a26d7f"
      },
      "source": [
        "import matplotlib.pyplot as plt\n",
        "import seaborn as sns\n",
        "sns.set_theme()\n",
        "\n",
        "# heatmap을 이용하면 두 개의 카테고리 값에 대한 값 변화를 한 눈에 알기 쉽다.\n",
        "plt.subplots(figsize=(9, 9))\n",
        "sns.heatmap(Genre.loc[:,'NA_Sales':'Other_Sales'],# Genre 전체 형 활용해서 sales열 추출함\n",
        "            vmax =1, #최댓값 = 1\n",
        "            vmin=0, #최솟값 = 0\n",
        "            annot=True, #각 cell의 값 표기 유무한다는 의미\n",
        "            fmt = '.2%',# 소수 2번째 짜리까지 나타냄\n",
        "            linewidths=.5  # cell 사이에 경계선 추가\n",
        "            ) \n",
        "plt.title(\"Area Genre\")\n",
        "\n",
        "# heatmap 그래프 참고한 블로그 https://dsbook.tistory.com/51"
      ],
      "execution_count": 43,
      "outputs": [
        {
          "output_type": "execute_result",
          "data": {
            "text/plain": [
              "Text(0.5, 1.0, 'Area Genre')"
            ]
          },
          "metadata": {
            "tags": []
          },
          "execution_count": 43
        },
        {
          "output_type": "display_data",
          "data": {
            "image/png": "[encoded data removed]",
            "text/plain": [
              "<Figure size 648x648 with 2 Axes>"
            ]
          },
          "metadata": {
            "tags": []
          }
        }
      ]
    },
    {
      "cell_type": "code",
      "metadata": {
        "id": "FxjOByrNl1Kv"
      },
      "source": [
        "# 미국에서 비디오 게임의 차지하는 비율이 높다는 것을 한 눈에 파악할 수 있다.\n",
        "# 모든 지역에서 액션, 스포츠가 잘 팔리고, 특이사항으로 일본에서 가장 잘 팔리는 것은 롤플레잉이다."
      ],
      "execution_count": 40,
      "outputs": []
    },
    {
      "cell_type": "code",
      "metadata": {
        "colab": {
          "base_uri": "https://localhost:8080/"
        },
        "id": "eNm8ptOQyXZX",
        "outputId": "e05186bd-d6a6-4d69-b2b5-c3797cd4867e"
      },
      "source": [
        "data.Genre.value_counts() # 장르의 개수를 파악한다.\n",
        "# 유일한 값별로 개수 세기  https://rfriend.tistory.com/tag/%EC%9C%A0%EC%9D%BC%ED%95%9C%20%EA%B0%92%EB%B3%84%EB%A1%9C%20%EA%B0%9C%EC%88%98%20%EC%84%B8%EA%B8%B0%20pd.Series.value_counts%28%29"
      ],
      "execution_count": 37,
      "outputs": [
        {
          "output_type": "execute_result",
          "data": {
            "text/plain": [
              "Action          3240\n",
              "Sports          2299\n",
              "Misc            1681\n",
              "Role-Playing    1465\n",
              "Shooter         1280\n",
              "Adventure       1268\n",
              "Racing          1219\n",
              "Platform         873\n",
              "Simulation       846\n",
              "Fighting         835\n",
              "Strategy         669\n",
              "Puzzle           566\n",
              "Name: Genre, dtype: int64"
            ]
          },
          "metadata": {
            "tags": []
          },
          "execution_count": 37
        }
      ]
    },
    {
      "cell_type": "code",
      "metadata": {
        "id": "zaPUPdctyeZ0"
      },
      "source": [
        "# 게임 장르별 순위를 파악할 수 있다.\n",
        "# 액션, 스포츠가 가장 많이 팔린다는 것을 알 수있다."
      ],
      "execution_count": null,
      "outputs": []
    },
    {
      "cell_type": "code",
      "metadata": {
        "id": "Ok9XRlQXkNnD"
      },
      "source": [
        ""
      ],
      "execution_count": null,
      "outputs": []
    },
    {
      "cell_type": "markdown",
      "metadata": {
        "id": "JSHpEJ8hy5BH"
      },
      "source": [
        "# 3. 출고량이 높은 게임에 대한 분석 및 시각화 프로세스 #"
      ]
    },
    {
      "cell_type": "code",
      "metadata": {
        "colab": {
          "base_uri": "https://localhost:8080/"
        },
        "id": "-_q8XP6GzLVL",
        "outputId": "0ac8cc0b-9afe-4a9b-d999-a4504d6f6b24"
      },
      "source": [
        "# data.groupby(['Name']).sum()['total_sales'].sort_values(ascending = False)[:10] =  # df_drop_nan[:10] \n",
        "top10_game = data.groupby(['Name']).sum()['total_sales'].sort_values(ascending = False)[:10]\n",
        "top10_game\n",
        "# df_drop_nan는 결측치를 제거할 때 확인한다고 사용했던 것으로  total_sales는 기준으로 내림차순한 데이터프레임이다. \n",
        "# 매출량이 높은 순서부터 나열한 것으로 이를 top10_game이라 지정해둔다."
      ],
      "execution_count": 26,
      "outputs": [
        {
          "output_type": "execute_result",
          "data": {
            "text/plain": [
              "Name\n",
              "Wii Sports                        82.74\n",
              "Grand Theft Auto V                55.92\n",
              "Super Mario Bros.                 45.31\n",
              "Tetris                            35.84\n",
              "Mario Kart Wii                    35.83\n",
              "Wii Sports Resort                 33.00\n",
              "Pokemon Red/Pokemon Blue          31.38\n",
              "Call of Duty: Modern Warfare 3    30.84\n",
              "New Super Mario Bros.             30.01\n",
              "Call of Duty: Black Ops II        29.73\n",
              "Name: total_sales, dtype: float64"
            ]
          },
          "metadata": {
            "tags": []
          },
          "execution_count": 26
        }
      ]
    },
    {
      "cell_type": "code",
      "metadata": {
        "colab": {
          "base_uri": "https://localhost:8080/",
          "height": 346
        },
        "id": "J5Whn9k0AYNZ",
        "outputId": "04847969-5275-4f4a-84f9-1a55b7a9f695"
      },
      "source": [
        "df_drop_nan[:10]"
      ],
      "execution_count": 27,
      "outputs": [
        {
          "output_type": "execute_result",
          "data": {
            "text/html": [
              "<div>\n",
              "<style scoped>\n",
              "    .dataframe tbody tr th:only-of-type {\n",
              "        vertical-align: middle;\n",
              "    }\n",
              "\n",
              "    .dataframe tbody tr th {\n",
              "        vertical-align: top;\n",
              "    }\n",
              "\n",
              "    .dataframe thead th {\n",
              "        text-align: right;\n",
              "    }\n",
              "</style>\n",
              "<table border=\"1\" class=\"dataframe\">\n",
              "  <thead>\n",
              "    <tr style=\"text-align: right;\">\n",
              "      <th></th>\n",
              "      <th>Name</th>\n",
              "      <th>Platform</th>\n",
              "      <th>Year</th>\n",
              "      <th>Genre</th>\n",
              "      <th>Publisher</th>\n",
              "      <th>NA_Sales</th>\n",
              "      <th>EU_Sales</th>\n",
              "      <th>JP_Sales</th>\n",
              "      <th>Other_Sales</th>\n",
              "      <th>total_sales</th>\n",
              "    </tr>\n",
              "  </thead>\n",
              "  <tbody>\n",
              "    <tr>\n",
              "      <th>2908</th>\n",
              "      <td>Wii Sports</td>\n",
              "      <td>Wii</td>\n",
              "      <td>2006.0</td>\n",
              "      <td>Sports</td>\n",
              "      <td>Nintendo</td>\n",
              "      <td>41.49</td>\n",
              "      <td>29.02</td>\n",
              "      <td>3.77</td>\n",
              "      <td>8.46</td>\n",
              "      <td>82.74</td>\n",
              "    </tr>\n",
              "    <tr>\n",
              "      <th>4199</th>\n",
              "      <td>Super Mario Bros.</td>\n",
              "      <td>NES</td>\n",
              "      <td>1985.0</td>\n",
              "      <td>Platform</td>\n",
              "      <td>Nintendo</td>\n",
              "      <td>29.08</td>\n",
              "      <td>3.58</td>\n",
              "      <td>6.81</td>\n",
              "      <td>0.77</td>\n",
              "      <td>40.24</td>\n",
              "    </tr>\n",
              "    <tr>\n",
              "      <th>12579</th>\n",
              "      <td>Mario Kart Wii</td>\n",
              "      <td>Wii</td>\n",
              "      <td>2008.0</td>\n",
              "      <td>Racing</td>\n",
              "      <td>Nintendo</td>\n",
              "      <td>15.85</td>\n",
              "      <td>12.88</td>\n",
              "      <td>3.79</td>\n",
              "      <td>3.31</td>\n",
              "      <td>35.83</td>\n",
              "    </tr>\n",
              "    <tr>\n",
              "      <th>3352</th>\n",
              "      <td>Wii Sports Resort</td>\n",
              "      <td>Wii</td>\n",
              "      <td>2009.0</td>\n",
              "      <td>Sports</td>\n",
              "      <td>Nintendo</td>\n",
              "      <td>15.75</td>\n",
              "      <td>11.01</td>\n",
              "      <td>3.28</td>\n",
              "      <td>2.96</td>\n",
              "      <td>33.00</td>\n",
              "    </tr>\n",
              "    <tr>\n",
              "      <th>7829</th>\n",
              "      <td>Pokemon Red/Pokemon Blue</td>\n",
              "      <td>GB</td>\n",
              "      <td>1996.0</td>\n",
              "      <td>Role-Playing</td>\n",
              "      <td>Nintendo</td>\n",
              "      <td>11.27</td>\n",
              "      <td>8.89</td>\n",
              "      <td>10.22</td>\n",
              "      <td>1.00</td>\n",
              "      <td>31.38</td>\n",
              "    </tr>\n",
              "    <tr>\n",
              "      <th>1203</th>\n",
              "      <td>Tetris</td>\n",
              "      <td>GB</td>\n",
              "      <td>1989.0</td>\n",
              "      <td>Puzzle</td>\n",
              "      <td>Nintendo</td>\n",
              "      <td>23.20</td>\n",
              "      <td>2.26</td>\n",
              "      <td>4.22</td>\n",
              "      <td>0.58</td>\n",
              "      <td>30.26</td>\n",
              "    </tr>\n",
              "    <tr>\n",
              "      <th>6937</th>\n",
              "      <td>New Super Mario Bros.</td>\n",
              "      <td>DS</td>\n",
              "      <td>2006.0</td>\n",
              "      <td>Platform</td>\n",
              "      <td>Nintendo</td>\n",
              "      <td>11.38</td>\n",
              "      <td>9.23</td>\n",
              "      <td>6.50</td>\n",
              "      <td>2.90</td>\n",
              "      <td>30.01</td>\n",
              "    </tr>\n",
              "    <tr>\n",
              "      <th>3014</th>\n",
              "      <td>Wii Play</td>\n",
              "      <td>Wii</td>\n",
              "      <td>2006.0</td>\n",
              "      <td>Misc</td>\n",
              "      <td>Nintendo</td>\n",
              "      <td>14.03</td>\n",
              "      <td>9.20</td>\n",
              "      <td>2.93</td>\n",
              "      <td>2.85</td>\n",
              "      <td>29.01</td>\n",
              "    </tr>\n",
              "    <tr>\n",
              "      <th>16531</th>\n",
              "      <td>New Super Mario Bros. Wii</td>\n",
              "      <td>Wii</td>\n",
              "      <td>2009.0</td>\n",
              "      <td>Platform</td>\n",
              "      <td>Nintendo</td>\n",
              "      <td>14.59</td>\n",
              "      <td>7.06</td>\n",
              "      <td>4.70</td>\n",
              "      <td>2.26</td>\n",
              "      <td>28.61</td>\n",
              "    </tr>\n",
              "    <tr>\n",
              "      <th>10488</th>\n",
              "      <td>Duck Hunt</td>\n",
              "      <td>NES</td>\n",
              "      <td>1984.0</td>\n",
              "      <td>Shooter</td>\n",
              "      <td>Nintendo</td>\n",
              "      <td>26.93</td>\n",
              "      <td>0.63</td>\n",
              "      <td>0.28</td>\n",
              "      <td>0.47</td>\n",
              "      <td>28.31</td>\n",
              "    </tr>\n",
              "  </tbody>\n",
              "</table>\n",
              "</div>"
            ],
            "text/plain": [
              "                            Name Platform  ...  Other_Sales total_sales\n",
              "2908                  Wii Sports      Wii  ...         8.46       82.74\n",
              "4199           Super Mario Bros.      NES  ...         0.77       40.24\n",
              "12579             Mario Kart Wii      Wii  ...         3.31       35.83\n",
              "3352           Wii Sports Resort      Wii  ...         2.96       33.00\n",
              "7829    Pokemon Red/Pokemon Blue       GB  ...         1.00       31.38\n",
              "1203                      Tetris       GB  ...         0.58       30.26\n",
              "6937       New Super Mario Bros.       DS  ...         2.90       30.01\n",
              "3014                    Wii Play      Wii  ...         2.85       29.01\n",
              "16531  New Super Mario Bros. Wii      Wii  ...         2.26       28.61\n",
              "10488                  Duck Hunt      NES  ...         0.47       28.31\n",
              "\n",
              "[10 rows x 10 columns]"
            ]
          },
          "metadata": {
            "tags": []
          },
          "execution_count": 27
        }
      ]
    },
    {
      "cell_type": "code",
      "metadata": {
        "colab": {
          "base_uri": "https://localhost:8080/"
        },
        "id": "G1nS67yJXobO",
        "outputId": "d2bc7797-56db-4523-b9ac-b6ab370bafac"
      },
      "source": [
        "data.groupby(['Name']).sum()['total_sales'].sort_values(ascending = False)[:10]\n",
        "\n",
        "# 위의 순위로 다르게 순위가 변경되어있음을 파악하였다.\n",
        "# 그래서 대표적으로 top3 게임의 플랫폼 별 출고량을 파악하였다."
      ],
      "execution_count": 28,
      "outputs": [
        {
          "output_type": "execute_result",
          "data": {
            "text/plain": [
              "Name\n",
              "Wii Sports                        82.74\n",
              "Grand Theft Auto V                55.92\n",
              "Super Mario Bros.                 45.31\n",
              "Tetris                            35.84\n",
              "Mario Kart Wii                    35.83\n",
              "Wii Sports Resort                 33.00\n",
              "Pokemon Red/Pokemon Blue          31.38\n",
              "Call of Duty: Modern Warfare 3    30.84\n",
              "New Super Mario Bros.             30.01\n",
              "Call of Duty: Black Ops II        29.73\n",
              "Name: total_sales, dtype: float64"
            ]
          },
          "metadata": {
            "tags": []
          },
          "execution_count": 28
        }
      ]
    },
    {
      "cell_type": "code",
      "metadata": {
        "colab": {
          "base_uri": "https://localhost:8080/",
          "height": 77
        },
        "id": "F_kz73cC_OJw",
        "outputId": "7ba265ac-0a0d-4b96-cfcb-51fcae0caf7b"
      },
      "source": [
        "data[data['Name'] == 'Wii Sports']\n",
        "# Wii Sports 는 1가지 플랫폼으로 출시된 게임이다."
      ],
      "execution_count": 29,
      "outputs": [
        {
          "output_type": "execute_result",
          "data": {
            "text/html": [
              "<div>\n",
              "<style scoped>\n",
              "    .dataframe tbody tr th:only-of-type {\n",
              "        vertical-align: middle;\n",
              "    }\n",
              "\n",
              "    .dataframe tbody tr th {\n",
              "        vertical-align: top;\n",
              "    }\n",
              "\n",
              "    .dataframe thead th {\n",
              "        text-align: right;\n",
              "    }\n",
              "</style>\n",
              "<table border=\"1\" class=\"dataframe\">\n",
              "  <thead>\n",
              "    <tr style=\"text-align: right;\">\n",
              "      <th></th>\n",
              "      <th>Year</th>\n",
              "      <th>Name</th>\n",
              "      <th>Platform</th>\n",
              "      <th>Genre</th>\n",
              "      <th>Publisher</th>\n",
              "      <th>NA_Sales</th>\n",
              "      <th>EU_Sales</th>\n",
              "      <th>JP_Sales</th>\n",
              "      <th>Other_Sales</th>\n",
              "      <th>total_sales</th>\n",
              "    </tr>\n",
              "  </thead>\n",
              "  <tbody>\n",
              "    <tr>\n",
              "      <th>2908</th>\n",
              "      <td>2006.0</td>\n",
              "      <td>Wii Sports</td>\n",
              "      <td>Wii</td>\n",
              "      <td>Sports</td>\n",
              "      <td>Nintendo</td>\n",
              "      <td>41.49</td>\n",
              "      <td>29.02</td>\n",
              "      <td>3.77</td>\n",
              "      <td>8.46</td>\n",
              "      <td>82.74</td>\n",
              "    </tr>\n",
              "  </tbody>\n",
              "</table>\n",
              "</div>"
            ],
            "text/plain": [
              "        Year        Name Platform  ... JP_Sales Other_Sales  total_sales\n",
              "2908  2006.0  Wii Sports      Wii  ...     3.77        8.46        82.74\n",
              "\n",
              "[1 rows x 10 columns]"
            ]
          },
          "metadata": {
            "tags": []
          },
          "execution_count": 29
        }
      ]
    },
    {
      "cell_type": "code",
      "metadata": {
        "colab": {
          "base_uri": "https://localhost:8080/",
          "height": 197
        },
        "id": "BcQiqLgv_n97",
        "outputId": "38ca5838-3eb9-4444-df63-b94a0b7c8aba"
      },
      "source": [
        "data[data['Name'] == 'Grand Theft Auto V']\n",
        "# Grand Theft Auto V 는 5가지 플랫폼으로 출시됐다."
      ],
      "execution_count": 30,
      "outputs": [
        {
          "output_type": "execute_result",
          "data": {
            "text/html": [
              "<div>\n",
              "<style scoped>\n",
              "    .dataframe tbody tr th:only-of-type {\n",
              "        vertical-align: middle;\n",
              "    }\n",
              "\n",
              "    .dataframe tbody tr th {\n",
              "        vertical-align: top;\n",
              "    }\n",
              "\n",
              "    .dataframe thead th {\n",
              "        text-align: right;\n",
              "    }\n",
              "</style>\n",
              "<table border=\"1\" class=\"dataframe\">\n",
              "  <thead>\n",
              "    <tr style=\"text-align: right;\">\n",
              "      <th></th>\n",
              "      <th>Year</th>\n",
              "      <th>Name</th>\n",
              "      <th>Platform</th>\n",
              "      <th>Genre</th>\n",
              "      <th>Publisher</th>\n",
              "      <th>NA_Sales</th>\n",
              "      <th>EU_Sales</th>\n",
              "      <th>JP_Sales</th>\n",
              "      <th>Other_Sales</th>\n",
              "      <th>total_sales</th>\n",
              "    </tr>\n",
              "  </thead>\n",
              "  <tbody>\n",
              "    <tr>\n",
              "      <th>3483</th>\n",
              "      <td>2013.0</td>\n",
              "      <td>Grand Theft Auto V</td>\n",
              "      <td>PS3</td>\n",
              "      <td>Action</td>\n",
              "      <td>Take-Two Interactive</td>\n",
              "      <td>7.01</td>\n",
              "      <td>9.27</td>\n",
              "      <td>0.97</td>\n",
              "      <td>4.14</td>\n",
              "      <td>21.39</td>\n",
              "    </tr>\n",
              "    <tr>\n",
              "      <th>10913</th>\n",
              "      <td>2013.0</td>\n",
              "      <td>Grand Theft Auto V</td>\n",
              "      <td>X360</td>\n",
              "      <td>Action</td>\n",
              "      <td>Take-Two Interactive</td>\n",
              "      <td>9.63</td>\n",
              "      <td>5.31</td>\n",
              "      <td>0.06</td>\n",
              "      <td>1.38</td>\n",
              "      <td>16.38</td>\n",
              "    </tr>\n",
              "    <tr>\n",
              "      <th>2008</th>\n",
              "      <td>2014.0</td>\n",
              "      <td>Grand Theft Auto V</td>\n",
              "      <td>PS4</td>\n",
              "      <td>Action</td>\n",
              "      <td>Take-Two Interactive</td>\n",
              "      <td>3.80</td>\n",
              "      <td>5.81</td>\n",
              "      <td>0.36</td>\n",
              "      <td>2.02</td>\n",
              "      <td>11.99</td>\n",
              "    </tr>\n",
              "    <tr>\n",
              "      <th>10834</th>\n",
              "      <td>2014.0</td>\n",
              "      <td>Grand Theft Auto V</td>\n",
              "      <td>XOne</td>\n",
              "      <td>Action</td>\n",
              "      <td>Take-Two Interactive</td>\n",
              "      <td>2.66</td>\n",
              "      <td>2.01</td>\n",
              "      <td>0.00</td>\n",
              "      <td>0.41</td>\n",
              "      <td>5.08</td>\n",
              "    </tr>\n",
              "    <tr>\n",
              "      <th>16575</th>\n",
              "      <td>2015.0</td>\n",
              "      <td>Grand Theft Auto V</td>\n",
              "      <td>PC</td>\n",
              "      <td>Action</td>\n",
              "      <td>Take-Two Interactive</td>\n",
              "      <td>0.36</td>\n",
              "      <td>0.64</td>\n",
              "      <td>0.00</td>\n",
              "      <td>0.08</td>\n",
              "      <td>1.08</td>\n",
              "    </tr>\n",
              "  </tbody>\n",
              "</table>\n",
              "</div>"
            ],
            "text/plain": [
              "         Year                Name Platform  ... JP_Sales Other_Sales  total_sales\n",
              "3483   2013.0  Grand Theft Auto V      PS3  ...     0.97        4.14        21.39\n",
              "10913  2013.0  Grand Theft Auto V     X360  ...     0.06        1.38        16.38\n",
              "2008   2014.0  Grand Theft Auto V      PS4  ...     0.36        2.02        11.99\n",
              "10834  2014.0  Grand Theft Auto V     XOne  ...     0.00        0.41         5.08\n",
              "16575  2015.0  Grand Theft Auto V       PC  ...     0.00        0.08         1.08\n",
              "\n",
              "[5 rows x 10 columns]"
            ]
          },
          "metadata": {
            "tags": []
          },
          "execution_count": 30
        }
      ]
    },
    {
      "cell_type": "code",
      "metadata": {
        "colab": {
          "base_uri": "https://localhost:8080/",
          "height": 107
        },
        "id": "NPRI2aMS_o5J",
        "outputId": "dd7ba878-a881-4f51-9fc7-8f4bb83d26d5"
      },
      "source": [
        "data[data['Name'] == 'Super Mario Bros.']\n",
        "# Super Mario Bros. 는 2가지 플랫폼으로 출시됐다."
      ],
      "execution_count": 31,
      "outputs": [
        {
          "output_type": "execute_result",
          "data": {
            "text/html": [
              "<div>\n",
              "<style scoped>\n",
              "    .dataframe tbody tr th:only-of-type {\n",
              "        vertical-align: middle;\n",
              "    }\n",
              "\n",
              "    .dataframe tbody tr th {\n",
              "        vertical-align: top;\n",
              "    }\n",
              "\n",
              "    .dataframe thead th {\n",
              "        text-align: right;\n",
              "    }\n",
              "</style>\n",
              "<table border=\"1\" class=\"dataframe\">\n",
              "  <thead>\n",
              "    <tr style=\"text-align: right;\">\n",
              "      <th></th>\n",
              "      <th>Year</th>\n",
              "      <th>Name</th>\n",
              "      <th>Platform</th>\n",
              "      <th>Genre</th>\n",
              "      <th>Publisher</th>\n",
              "      <th>NA_Sales</th>\n",
              "      <th>EU_Sales</th>\n",
              "      <th>JP_Sales</th>\n",
              "      <th>Other_Sales</th>\n",
              "      <th>total_sales</th>\n",
              "    </tr>\n",
              "  </thead>\n",
              "  <tbody>\n",
              "    <tr>\n",
              "      <th>4199</th>\n",
              "      <td>1985.0</td>\n",
              "      <td>Super Mario Bros.</td>\n",
              "      <td>NES</td>\n",
              "      <td>Platform</td>\n",
              "      <td>Nintendo</td>\n",
              "      <td>29.08</td>\n",
              "      <td>3.58</td>\n",
              "      <td>6.81</td>\n",
              "      <td>0.77</td>\n",
              "      <td>40.24</td>\n",
              "    </tr>\n",
              "    <tr>\n",
              "      <th>13052</th>\n",
              "      <td>1999.0</td>\n",
              "      <td>Super Mario Bros.</td>\n",
              "      <td>GB</td>\n",
              "      <td>Platform</td>\n",
              "      <td>Nintendo</td>\n",
              "      <td>3.40</td>\n",
              "      <td>1.30</td>\n",
              "      <td>0.15</td>\n",
              "      <td>0.22</td>\n",
              "      <td>5.07</td>\n",
              "    </tr>\n",
              "  </tbody>\n",
              "</table>\n",
              "</div>"
            ],
            "text/plain": [
              "         Year               Name Platform  ... JP_Sales Other_Sales  total_sales\n",
              "4199   1985.0  Super Mario Bros.      NES  ...     6.81        0.77        40.24\n",
              "13052  1999.0  Super Mario Bros.       GB  ...     0.15        0.22         5.07\n",
              "\n",
              "[2 rows x 10 columns]"
            ]
          },
          "metadata": {
            "tags": []
          },
          "execution_count": 31
        }
      ]
    },
    {
      "cell_type": "code",
      "metadata": {
        "colab": {
          "base_uri": "https://localhost:8080/"
        },
        "id": "sQPKVXbXYBpk",
        "outputId": "b6e358ca-0cfa-4bf9-af17-5c49406934a9"
      },
      "source": [
        "data.groupby(['Name']).sum()['total_sales'].sort_values(ascending = False)[:10]\n",
        "\n",
        "\n",
        "# 출고량 순위 # 플랫폼과 별도로 게임 이름으로만 순위를 파악하였을 경우\n",
        "# Wii Sports\n",
        "# Super Mario Bros.\n",
        "# Mario Kart Woo\n",
        "# Woo Sprots Resort\n",
        "# Pokemon Red/Pokemon Blue\n",
        "# Tetris\n",
        "# New Super Mario Bros.\n",
        "# Wii Play\t\n",
        "# New Super Mario Bros. Wii\t\n",
        "# Duck Hunt\t\n",
        "# 출고량 순위를 보면 Wii와 관련된 게임의 출고량이 상당히 많은 비중을 차지한다는 것을 파악하였다.\n",
        "\n",
        "\n",
        "# 위의 순위로 다르게 순위가 변경되어있음을 파악하였다.\n",
        "# 같은 게임이지만 다른 플랫폼에 출시한 게임들이 있다는 것을 파악하였다. \n",
        "# 같은 게임이지만 플랫폼이 다르면 순위도 다르게 표현되어있다.\n",
        "# 예를 들어, Grand Theft Auto V  게임 같은 경우 5종류의 플랫폼으로 출시하였다는 것을 알 수 있다.\n",
        "# 전체 Grand Theft Auto V 출고량을 파악하면 2위를 차지한다."
      ],
      "execution_count": 32,
      "outputs": [
        {
          "output_type": "execute_result",
          "data": {
            "text/plain": [
              "Name\n",
              "Wii Sports                        82.74\n",
              "Grand Theft Auto V                55.92\n",
              "Super Mario Bros.                 45.31\n",
              "Tetris                            35.84\n",
              "Mario Kart Wii                    35.83\n",
              "Wii Sports Resort                 33.00\n",
              "Pokemon Red/Pokemon Blue          31.38\n",
              "Call of Duty: Modern Warfare 3    30.84\n",
              "New Super Mario Bros.             30.01\n",
              "Call of Duty: Black Ops II        29.73\n",
              "Name: total_sales, dtype: float64"
            ]
          },
          "metadata": {
            "tags": []
          },
          "execution_count": 32
        }
      ]
    },
    {
      "cell_type": "code",
      "metadata": {
        "colab": {
          "base_uri": "https://localhost:8080/",
          "height": 553
        },
        "id": "j0b2DiucAAoj",
        "outputId": "1f358240-4cce-4979-8123-230b6adbb0af"
      },
      "source": [
        "# 이름이 똑같은 게임이라도 플랫폼 별로 나눠서 판매된 게임들이 존재한다는 것을 확인하였다.\n",
        "# 그래서 전체 게임의 출고량을 파악하기 위해 플랫폼 별 출시현황을 합치기 위해 그룹화를 하여 파이 그래프를 만들었다.\n",
        "data.groupby(['Name']).sum()['total_sales'].sort_values(ascending = False)[:10].plot(kind='pie',                              # pie chart 출력\n",
        "                                                                                     figsize=(9, 9),                          # 차트 크기\n",
        "                                                                                     autopct=lambda p : '{:.2f}%'.format(p))  # 소수점 2자리표현 및 '%' 출력\n",
        "plt.title('출고량 Top10 장르의 비율')"
      ],
      "execution_count": 33,
      "outputs": [
        {
          "output_type": "execute_result",
          "data": {
            "text/plain": [
              "Text(0.5, 1.0, '출고량 Top10 장르의 비율')"
            ]
          },
          "metadata": {
            "tags": []
          },
          "execution_count": 33
        },
        {
          "output_type": "display_data",
          "data": {
            "image/png": "[encoded data removed]",
            "text/plain": [
              "<Figure size 648x648 with 1 Axes>"
            ]
          },
          "metadata": {
            "tags": []
          }
        }
      ]
    },
    {
      "cell_type": "code",
      "metadata": {
        "id": "aZ7ScSMJh_Xb"
      },
      "source": [
        "data.Platform.value_counts() "
      ],
      "execution_count": null,
      "outputs": []
    },
    {
      "cell_type": "code",
      "metadata": {
        "id": "EX-nIHL1iV2V"
      },
      "source": [
        "data.Year.value_counts()"
      ],
      "execution_count": null,
      "outputs": []
    },
    {
      "cell_type": "code",
      "metadata": {
        "id": "bHh86L8Pwcdr"
      },
      "source": [
        "data.Genre.value_counts()"
      ],
      "execution_count": null,
      "outputs": []
    },
    {
      "cell_type": "markdown",
      "metadata": {
        "id": "khmAS3MaxRpH"
      },
      "source": [
        "#pdf1 = pd.pivot_table(df,                # 피벗할 데이터프레임\n",
        "                     index = 'class',    # 행 위치에 들어갈 열\n",
        "                     columns = 'sex',    # 열 위치에 들어갈 열\n",
        "                     values = 'age',     # 데이터로 사용할 열\n",
        "                     aggfunc = 'mean')   # 데이터 집계함수\n",
        "#pdf1"
      ]
    },
    {
      "cell_type": "code",
      "metadata": {
        "colab": {
          "base_uri": "https://localhost:8080/",
          "height": 1000
        },
        "id": "P16hK6VPxQNG",
        "outputId": "32e3b698-8eac-4ebe-a2fa-9bd56158e4a7"
      },
      "source": [
        "Genre_Year_table = pd.pivot_table(data[data['Year']<=2020], values = ['total_sales'], index = ['Year'], columns = ['Genre'], aggfunc = 'sum')\n",
        "Genre_Year_table\n",
        "# 결측치가 확인되었다. 하지만 시각화하는데 전혀 문제가 없었다."
      ],
      "execution_count": 34,
      "outputs": [
        {
          "output_type": "execute_result",
          "data": {
            "text/html": [
              "<div>\n",
              "<style scoped>\n",
              "    .dataframe tbody tr th:only-of-type {\n",
              "        vertical-align: middle;\n",
              "    }\n",
              "\n",
              "    .dataframe tbody tr th {\n",
              "        vertical-align: top;\n",
              "    }\n",
              "\n",
              "    .dataframe thead tr th {\n",
              "        text-align: left;\n",
              "    }\n",
              "\n",
              "    .dataframe thead tr:last-of-type th {\n",
              "        text-align: right;\n",
              "    }\n",
              "</style>\n",
              "<table border=\"1\" class=\"dataframe\">\n",
              "  <thead>\n",
              "    <tr>\n",
              "      <th></th>\n",
              "      <th colspan=\"12\" halign=\"left\">total_sales</th>\n",
              "    </tr>\n",
              "    <tr>\n",
              "      <th>Genre</th>\n",
              "      <th>Action</th>\n",
              "      <th>Adventure</th>\n",
              "      <th>Fighting</th>\n",
              "      <th>Misc</th>\n",
              "      <th>Platform</th>\n",
              "      <th>Puzzle</th>\n",
              "      <th>Racing</th>\n",
              "      <th>Role-Playing</th>\n",
              "      <th>Shooter</th>\n",
              "      <th>Simulation</th>\n",
              "      <th>Sports</th>\n",
              "      <th>Strategy</th>\n",
              "    </tr>\n",
              "    <tr>\n",
              "      <th>Year</th>\n",
              "      <th></th>\n",
              "      <th></th>\n",
              "      <th></th>\n",
              "      <th></th>\n",
              "      <th></th>\n",
              "      <th></th>\n",
              "      <th></th>\n",
              "      <th></th>\n",
              "      <th></th>\n",
              "      <th></th>\n",
              "      <th></th>\n",
              "      <th></th>\n",
              "    </tr>\n",
              "  </thead>\n",
              "  <tbody>\n",
              "    <tr>\n",
              "      <th>1980.0</th>\n",
              "      <td>0.34</td>\n",
              "      <td>NaN</td>\n",
              "      <td>0.77</td>\n",
              "      <td>2.70</td>\n",
              "      <td>NaN</td>\n",
              "      <td>NaN</td>\n",
              "      <td>NaN</td>\n",
              "      <td>NaN</td>\n",
              "      <td>7.07</td>\n",
              "      <td>NaN</td>\n",
              "      <td>NaN</td>\n",
              "      <td>NaN</td>\n",
              "    </tr>\n",
              "    <tr>\n",
              "      <th>1981.0</th>\n",
              "      <td>14.79</td>\n",
              "      <td>NaN</td>\n",
              "      <td>NaN</td>\n",
              "      <td>NaN</td>\n",
              "      <td>6.92</td>\n",
              "      <td>2.25</td>\n",
              "      <td>0.48</td>\n",
              "      <td>NaN</td>\n",
              "      <td>10.02</td>\n",
              "      <td>0.44</td>\n",
              "      <td>0.78</td>\n",
              "      <td>NaN</td>\n",
              "    </tr>\n",
              "    <tr>\n",
              "      <th>1982.0</th>\n",
              "      <td>6.50</td>\n",
              "      <td>NaN</td>\n",
              "      <td>NaN</td>\n",
              "      <td>0.87</td>\n",
              "      <td>5.03</td>\n",
              "      <td>10.04</td>\n",
              "      <td>1.57</td>\n",
              "      <td>NaN</td>\n",
              "      <td>3.81</td>\n",
              "      <td>NaN</td>\n",
              "      <td>1.06</td>\n",
              "      <td>NaN</td>\n",
              "    </tr>\n",
              "    <tr>\n",
              "      <th>1983.0</th>\n",
              "      <td>2.86</td>\n",
              "      <td>0.40</td>\n",
              "      <td>NaN</td>\n",
              "      <td>2.14</td>\n",
              "      <td>6.93</td>\n",
              "      <td>0.78</td>\n",
              "      <td>NaN</td>\n",
              "      <td>NaN</td>\n",
              "      <td>0.49</td>\n",
              "      <td>NaN</td>\n",
              "      <td>3.20</td>\n",
              "      <td>NaN</td>\n",
              "    </tr>\n",
              "    <tr>\n",
              "      <th>1984.0</th>\n",
              "      <td>1.85</td>\n",
              "      <td>NaN</td>\n",
              "      <td>NaN</td>\n",
              "      <td>1.45</td>\n",
              "      <td>0.69</td>\n",
              "      <td>3.14</td>\n",
              "      <td>5.95</td>\n",
              "      <td>NaN</td>\n",
              "      <td>31.10</td>\n",
              "      <td>NaN</td>\n",
              "      <td>6.17</td>\n",
              "      <td>NaN</td>\n",
              "    </tr>\n",
              "    <tr>\n",
              "      <th>1985.0</th>\n",
              "      <td>3.52</td>\n",
              "      <td>NaN</td>\n",
              "      <td>1.05</td>\n",
              "      <td>NaN</td>\n",
              "      <td>43.17</td>\n",
              "      <td>3.21</td>\n",
              "      <td>NaN</td>\n",
              "      <td>NaN</td>\n",
              "      <td>1.00</td>\n",
              "      <td>0.04</td>\n",
              "      <td>1.96</td>\n",
              "      <td>NaN</td>\n",
              "    </tr>\n",
              "    <tr>\n",
              "      <th>1986.0</th>\n",
              "      <td>13.74</td>\n",
              "      <td>NaN</td>\n",
              "      <td>NaN</td>\n",
              "      <td>NaN</td>\n",
              "      <td>9.39</td>\n",
              "      <td>NaN</td>\n",
              "      <td>1.96</td>\n",
              "      <td>2.52</td>\n",
              "      <td>3.89</td>\n",
              "      <td>NaN</td>\n",
              "      <td>5.58</td>\n",
              "      <td>NaN</td>\n",
              "    </tr>\n",
              "    <tr>\n",
              "      <th>1987.0</th>\n",
              "      <td>1.11</td>\n",
              "      <td>4.38</td>\n",
              "      <td>5.42</td>\n",
              "      <td>NaN</td>\n",
              "      <td>1.74</td>\n",
              "      <td>NaN</td>\n",
              "      <td>NaN</td>\n",
              "      <td>4.65</td>\n",
              "      <td>0.69</td>\n",
              "      <td>NaN</td>\n",
              "      <td>3.71</td>\n",
              "      <td>NaN</td>\n",
              "    </tr>\n",
              "    <tr>\n",
              "      <th>1988.0</th>\n",
              "      <td>1.74</td>\n",
              "      <td>NaN</td>\n",
              "      <td>NaN</td>\n",
              "      <td>NaN</td>\n",
              "      <td>27.73</td>\n",
              "      <td>5.58</td>\n",
              "      <td>2.14</td>\n",
              "      <td>5.88</td>\n",
              "      <td>0.51</td>\n",
              "      <td>0.03</td>\n",
              "      <td>3.60</td>\n",
              "      <td>NaN</td>\n",
              "    </tr>\n",
              "    <tr>\n",
              "      <th>1989.0</th>\n",
              "      <td>4.65</td>\n",
              "      <td>NaN</td>\n",
              "      <td>NaN</td>\n",
              "      <td>1.28</td>\n",
              "      <td>20.66</td>\n",
              "      <td>37.75</td>\n",
              "      <td>NaN</td>\n",
              "      <td>2.20</td>\n",
              "      <td>1.19</td>\n",
              "      <td>NaN</td>\n",
              "      <td>5.72</td>\n",
              "      <td>NaN</td>\n",
              "    </tr>\n",
              "    <tr>\n",
              "      <th>1990.0</th>\n",
              "      <td>6.39</td>\n",
              "      <td>NaN</td>\n",
              "      <td>NaN</td>\n",
              "      <td>NaN</td>\n",
              "      <td>22.98</td>\n",
              "      <td>5.99</td>\n",
              "      <td>6.25</td>\n",
              "      <td>4.52</td>\n",
              "      <td>NaN</td>\n",
              "      <td>1.13</td>\n",
              "      <td>2.11</td>\n",
              "      <td>NaN</td>\n",
              "    </tr>\n",
              "    <tr>\n",
              "      <th>1991.0</th>\n",
              "      <td>6.76</td>\n",
              "      <td>2.24</td>\n",
              "      <td>0.39</td>\n",
              "      <td>0.08</td>\n",
              "      <td>7.63</td>\n",
              "      <td>3.24</td>\n",
              "      <td>1.14</td>\n",
              "      <td>3.26</td>\n",
              "      <td>1.99</td>\n",
              "      <td>2.15</td>\n",
              "      <td>2.41</td>\n",
              "      <td>0.94</td>\n",
              "    </tr>\n",
              "    <tr>\n",
              "      <th>1992.0</th>\n",
              "      <td>3.84</td>\n",
              "      <td>12.24</td>\n",
              "      <td>15.23</td>\n",
              "      <td>4.94</td>\n",
              "      <td>13.41</td>\n",
              "      <td>4.84</td>\n",
              "      <td>9.05</td>\n",
              "      <td>6.86</td>\n",
              "      <td>0.28</td>\n",
              "      <td>2.14</td>\n",
              "      <td>2.95</td>\n",
              "      <td>0.36</td>\n",
              "    </tr>\n",
              "    <tr>\n",
              "      <th>1993.0</th>\n",
              "      <td>1.81</td>\n",
              "      <td>0.07</td>\n",
              "      <td>8.75</td>\n",
              "      <td>0.30</td>\n",
              "      <td>18.68</td>\n",
              "      <td>3.17</td>\n",
              "      <td>0.36</td>\n",
              "      <td>5.59</td>\n",
              "      <td>3.08</td>\n",
              "      <td>0.19</td>\n",
              "      <td>3.18</td>\n",
              "      <td>0.81</td>\n",
              "    </tr>\n",
              "    <tr>\n",
              "      <th>1994.0</th>\n",
              "      <td>1.55</td>\n",
              "      <td>3.74</td>\n",
              "      <td>8.47</td>\n",
              "      <td>2.86</td>\n",
              "      <td>28.76</td>\n",
              "      <td>1.53</td>\n",
              "      <td>2.18</td>\n",
              "      <td>7.13</td>\n",
              "      <td>8.30</td>\n",
              "      <td>2.72</td>\n",
              "      <td>8.41</td>\n",
              "      <td>3.57</td>\n",
              "    </tr>\n",
              "    <tr>\n",
              "      <th>1995.0</th>\n",
              "      <td>3.58</td>\n",
              "      <td>0.71</td>\n",
              "      <td>14.84</td>\n",
              "      <td>6.39</td>\n",
              "      <td>16.69</td>\n",
              "      <td>2.69</td>\n",
              "      <td>6.09</td>\n",
              "      <td>14.27</td>\n",
              "      <td>4.15</td>\n",
              "      <td>4.17</td>\n",
              "      <td>7.99</td>\n",
              "      <td>6.54</td>\n",
              "    </tr>\n",
              "    <tr>\n",
              "      <th>1996.0</th>\n",
              "      <td>20.60</td>\n",
              "      <td>4.18</td>\n",
              "      <td>18.04</td>\n",
              "      <td>10.66</td>\n",
              "      <td>28.23</td>\n",
              "      <td>3.92</td>\n",
              "      <td>27.85</td>\n",
              "      <td>43.99</td>\n",
              "      <td>6.90</td>\n",
              "      <td>11.33</td>\n",
              "      <td>17.42</td>\n",
              "      <td>5.61</td>\n",
              "    </tr>\n",
              "    <tr>\n",
              "      <th>1997.0</th>\n",
              "      <td>27.59</td>\n",
              "      <td>4.97</td>\n",
              "      <td>11.80</td>\n",
              "      <td>5.68</td>\n",
              "      <td>21.86</td>\n",
              "      <td>5.87</td>\n",
              "      <td>31.92</td>\n",
              "      <td>21.82</td>\n",
              "      <td>22.16</td>\n",
              "      <td>9.64</td>\n",
              "      <td>30.04</td>\n",
              "      <td>7.72</td>\n",
              "    </tr>\n",
              "    <tr>\n",
              "      <th>1998.0</th>\n",
              "      <td>39.41</td>\n",
              "      <td>9.04</td>\n",
              "      <td>31.68</td>\n",
              "      <td>11.84</td>\n",
              "      <td>29.83</td>\n",
              "      <td>6.35</td>\n",
              "      <td>26.78</td>\n",
              "      <td>28.09</td>\n",
              "      <td>9.80</td>\n",
              "      <td>7.11</td>\n",
              "      <td>41.75</td>\n",
              "      <td>13.49</td>\n",
              "    </tr>\n",
              "    <tr>\n",
              "      <th>1999.0</th>\n",
              "      <td>27.62</td>\n",
              "      <td>7.61</td>\n",
              "      <td>14.31</td>\n",
              "      <td>20.68</td>\n",
              "      <td>20.80</td>\n",
              "      <td>1.34</td>\n",
              "      <td>37.19</td>\n",
              "      <td>47.24</td>\n",
              "      <td>12.23</td>\n",
              "      <td>11.46</td>\n",
              "      <td>30.21</td>\n",
              "      <td>18.47</td>\n",
              "    </tr>\n",
              "    <tr>\n",
              "      <th>2000.0</th>\n",
              "      <td>33.89</td>\n",
              "      <td>2.96</td>\n",
              "      <td>20.26</td>\n",
              "      <td>15.55</td>\n",
              "      <td>16.05</td>\n",
              "      <td>3.83</td>\n",
              "      <td>20.00</td>\n",
              "      <td>29.04</td>\n",
              "      <td>6.83</td>\n",
              "      <td>3.37</td>\n",
              "      <td>41.24</td>\n",
              "      <td>8.52</td>\n",
              "    </tr>\n",
              "    <tr>\n",
              "      <th>2001.0</th>\n",
              "      <td>56.68</td>\n",
              "      <td>8.96</td>\n",
              "      <td>18.10</td>\n",
              "      <td>16.39</td>\n",
              "      <td>39.33</td>\n",
              "      <td>7.94</td>\n",
              "      <td>55.83</td>\n",
              "      <td>22.02</td>\n",
              "      <td>24.81</td>\n",
              "      <td>19.54</td>\n",
              "      <td>51.47</td>\n",
              "      <td>7.54</td>\n",
              "    </tr>\n",
              "    <tr>\n",
              "      <th>2002.0</th>\n",
              "      <td>86.65</td>\n",
              "      <td>11.07</td>\n",
              "      <td>24.92</td>\n",
              "      <td>15.63</td>\n",
              "      <td>45.95</td>\n",
              "      <td>5.33</td>\n",
              "      <td>30.15</td>\n",
              "      <td>45.09</td>\n",
              "      <td>47.64</td>\n",
              "      <td>10.82</td>\n",
              "      <td>65.31</td>\n",
              "      <td>5.51</td>\n",
              "    </tr>\n",
              "    <tr>\n",
              "      <th>2003.0</th>\n",
              "      <td>67.98</td>\n",
              "      <td>2.12</td>\n",
              "      <td>23.79</td>\n",
              "      <td>23.79</td>\n",
              "      <td>42.82</td>\n",
              "      <td>1.71</td>\n",
              "      <td>52.18</td>\n",
              "      <td>30.29</td>\n",
              "      <td>27.10</td>\n",
              "      <td>21.21</td>\n",
              "      <td>55.96</td>\n",
              "      <td>7.95</td>\n",
              "    </tr>\n",
              "    <tr>\n",
              "      <th>2004.0</th>\n",
              "      <td>76.15</td>\n",
              "      <td>8.45</td>\n",
              "      <td>16.76</td>\n",
              "      <td>26.10</td>\n",
              "      <td>47.34</td>\n",
              "      <td>8.41</td>\n",
              "      <td>45.61</td>\n",
              "      <td>53.95</td>\n",
              "      <td>46.92</td>\n",
              "      <td>10.89</td>\n",
              "      <td>61.11</td>\n",
              "      <td>7.14</td>\n",
              "    </tr>\n",
              "    <tr>\n",
              "      <th>2005.0</th>\n",
              "      <td>85.52</td>\n",
              "      <td>8.53</td>\n",
              "      <td>19.68</td>\n",
              "      <td>59.69</td>\n",
              "      <td>22.81</td>\n",
              "      <td>20.26</td>\n",
              "      <td>56.40</td>\n",
              "      <td>28.51</td>\n",
              "      <td>41.57</td>\n",
              "      <td>49.28</td>\n",
              "      <td>59.53</td>\n",
              "      <td>5.34</td>\n",
              "    </tr>\n",
              "    <tr>\n",
              "      <th>2006.0</th>\n",
              "      <td>66.49</td>\n",
              "      <td>11.48</td>\n",
              "      <td>22.53</td>\n",
              "      <td>67.23</td>\n",
              "      <td>49.70</td>\n",
              "      <td>10.79</td>\n",
              "      <td>34.06</td>\n",
              "      <td>51.79</td>\n",
              "      <td>38.35</td>\n",
              "      <td>21.73</td>\n",
              "      <td>136.12</td>\n",
              "      <td>4.23</td>\n",
              "    </tr>\n",
              "    <tr>\n",
              "      <th>2007.0</th>\n",
              "      <td>105.99</td>\n",
              "      <td>24.44</td>\n",
              "      <td>17.63</td>\n",
              "      <td>91.07</td>\n",
              "      <td>35.53</td>\n",
              "      <td>23.78</td>\n",
              "      <td>38.95</td>\n",
              "      <td>43.86</td>\n",
              "      <td>70.88</td>\n",
              "      <td>48.85</td>\n",
              "      <td>98.24</td>\n",
              "      <td>9.38</td>\n",
              "    </tr>\n",
              "    <tr>\n",
              "      <th>2008.0</th>\n",
              "      <td>135.46</td>\n",
              "      <td>24.91</td>\n",
              "      <td>35.41</td>\n",
              "      <td>86.18</td>\n",
              "      <td>35.65</td>\n",
              "      <td>15.53</td>\n",
              "      <td>70.73</td>\n",
              "      <td>59.69</td>\n",
              "      <td>59.51</td>\n",
              "      <td>46.40</td>\n",
              "      <td>95.24</td>\n",
              "      <td>11.70</td>\n",
              "    </tr>\n",
              "    <tr>\n",
              "      <th>2009.0</th>\n",
              "      <td>138.32</td>\n",
              "      <td>20.67</td>\n",
              "      <td>32.18</td>\n",
              "      <td>76.90</td>\n",
              "      <td>40.95</td>\n",
              "      <td>20.28</td>\n",
              "      <td>34.09</td>\n",
              "      <td>47.96</td>\n",
              "      <td>69.84</td>\n",
              "      <td>33.55</td>\n",
              "      <td>138.59</td>\n",
              "      <td>12.51</td>\n",
              "    </tr>\n",
              "    <tr>\n",
              "      <th>2010.0</th>\n",
              "      <td>117.50</td>\n",
              "      <td>16.57</td>\n",
              "      <td>14.88</td>\n",
              "      <td>88.40</td>\n",
              "      <td>31.98</td>\n",
              "      <td>11.15</td>\n",
              "      <td>34.93</td>\n",
              "      <td>70.56</td>\n",
              "      <td>77.44</td>\n",
              "      <td>21.90</td>\n",
              "      <td>92.02</td>\n",
              "      <td>13.82</td>\n",
              "    </tr>\n",
              "    <tr>\n",
              "      <th>2011.0</th>\n",
              "      <td>119.00</td>\n",
              "      <td>15.88</td>\n",
              "      <td>22.11</td>\n",
              "      <td>55.77</td>\n",
              "      <td>28.12</td>\n",
              "      <td>5.10</td>\n",
              "      <td>34.96</td>\n",
              "      <td>53.32</td>\n",
              "      <td>99.35</td>\n",
              "      <td>15.31</td>\n",
              "      <td>57.06</td>\n",
              "      <td>8.87</td>\n",
              "    </tr>\n",
              "    <tr>\n",
              "      <th>2012.0</th>\n",
              "      <td>120.78</td>\n",
              "      <td>5.90</td>\n",
              "      <td>9.53</td>\n",
              "      <td>22.93</td>\n",
              "      <td>18.54</td>\n",
              "      <td>1.74</td>\n",
              "      <td>14.43</td>\n",
              "      <td>47.77</td>\n",
              "      <td>72.84</td>\n",
              "      <td>13.37</td>\n",
              "      <td>30.90</td>\n",
              "      <td>3.33</td>\n",
              "    </tr>\n",
              "    <tr>\n",
              "      <th>2013.0</th>\n",
              "      <td>125.21</td>\n",
              "      <td>6.61</td>\n",
              "      <td>7.23</td>\n",
              "      <td>25.66</td>\n",
              "      <td>25.09</td>\n",
              "      <td>1.00</td>\n",
              "      <td>13.02</td>\n",
              "      <td>30.54</td>\n",
              "      <td>62.73</td>\n",
              "      <td>8.68</td>\n",
              "      <td>41.54</td>\n",
              "      <td>6.32</td>\n",
              "    </tr>\n",
              "    <tr>\n",
              "      <th>2014.0</th>\n",
              "      <td>99.01</td>\n",
              "      <td>6.09</td>\n",
              "      <td>16.15</td>\n",
              "      <td>23.73</td>\n",
              "      <td>8.87</td>\n",
              "      <td>1.50</td>\n",
              "      <td>16.71</td>\n",
              "      <td>45.88</td>\n",
              "      <td>65.99</td>\n",
              "      <td>5.54</td>\n",
              "      <td>46.64</td>\n",
              "      <td>0.97</td>\n",
              "    </tr>\n",
              "    <tr>\n",
              "      <th>2015.0</th>\n",
              "      <td>68.25</td>\n",
              "      <td>8.01</td>\n",
              "      <td>7.78</td>\n",
              "      <td>11.66</td>\n",
              "      <td>6.05</td>\n",
              "      <td>0.69</td>\n",
              "      <td>7.92</td>\n",
              "      <td>36.43</td>\n",
              "      <td>66.12</td>\n",
              "      <td>5.61</td>\n",
              "      <td>41.49</td>\n",
              "      <td>1.82</td>\n",
              "    </tr>\n",
              "    <tr>\n",
              "      <th>2016.0</th>\n",
              "      <td>19.84</td>\n",
              "      <td>1.79</td>\n",
              "      <td>3.85</td>\n",
              "      <td>1.15</td>\n",
              "      <td>2.08</td>\n",
              "      <td>NaN</td>\n",
              "      <td>1.67</td>\n",
              "      <td>6.75</td>\n",
              "      <td>18.17</td>\n",
              "      <td>0.39</td>\n",
              "      <td>14.63</td>\n",
              "      <td>0.52</td>\n",
              "    </tr>\n",
              "    <tr>\n",
              "      <th>2017.0</th>\n",
              "      <td>0.01</td>\n",
              "      <td>NaN</td>\n",
              "      <td>NaN</td>\n",
              "      <td>NaN</td>\n",
              "      <td>NaN</td>\n",
              "      <td>NaN</td>\n",
              "      <td>NaN</td>\n",
              "      <td>0.04</td>\n",
              "      <td>NaN</td>\n",
              "      <td>NaN</td>\n",
              "      <td>NaN</td>\n",
              "      <td>NaN</td>\n",
              "    </tr>\n",
              "    <tr>\n",
              "      <th>2020.0</th>\n",
              "      <td>NaN</td>\n",
              "      <td>NaN</td>\n",
              "      <td>NaN</td>\n",
              "      <td>NaN</td>\n",
              "      <td>NaN</td>\n",
              "      <td>NaN</td>\n",
              "      <td>NaN</td>\n",
              "      <td>NaN</td>\n",
              "      <td>NaN</td>\n",
              "      <td>0.29</td>\n",
              "      <td>NaN</td>\n",
              "      <td>NaN</td>\n",
              "    </tr>\n",
              "  </tbody>\n",
              "</table>\n",
              "</div>"
            ],
            "text/plain": [
              "       total_sales                     ...                            \n",
              "Genre       Action Adventure Fighting  ... Simulation  Sports Strategy\n",
              "Year                                   ...                            \n",
              "1980.0        0.34       NaN     0.77  ...        NaN     NaN      NaN\n",
              "1981.0       14.79       NaN      NaN  ...       0.44    0.78      NaN\n",
              "1982.0        6.50       NaN      NaN  ...        NaN    1.06      NaN\n",
              "1983.0        2.86      0.40      NaN  ...        NaN    3.20      NaN\n",
              "1984.0        1.85       NaN      NaN  ...        NaN    6.17      NaN\n",
              "1985.0        3.52       NaN     1.05  ...       0.04    1.96      NaN\n",
              "1986.0       13.74       NaN      NaN  ...        NaN    5.58      NaN\n",
              "1987.0        1.11      4.38     5.42  ...        NaN    3.71      NaN\n",
              "1988.0        1.74       NaN      NaN  ...       0.03    3.60      NaN\n",
              "1989.0        4.65       NaN      NaN  ...        NaN    5.72      NaN\n",
              "1990.0        6.39       NaN      NaN  ...       1.13    2.11      NaN\n",
              "1991.0        6.76      2.24     0.39  ...       2.15    2.41     0.94\n",
              "1992.0        3.84     12.24    15.23  ...       2.14    2.95     0.36\n",
              "1993.0        1.81      0.07     8.75  ...       0.19    3.18     0.81\n",
              "1994.0        1.55      3.74     8.47  ...       2.72    8.41     3.57\n",
              "1995.0        3.58      0.71    14.84  ...       4.17    7.99     6.54\n",
              "1996.0       20.60      4.18    18.04  ...      11.33   17.42     5.61\n",
              "1997.0       27.59      4.97    11.80  ...       9.64   30.04     7.72\n",
              "1998.0       39.41      9.04    31.68  ...       7.11   41.75    13.49\n",
              "1999.0       27.62      7.61    14.31  ...      11.46   30.21    18.47\n",
              "2000.0       33.89      2.96    20.26  ...       3.37   41.24     8.52\n",
              "2001.0       56.68      8.96    18.10  ...      19.54   51.47     7.54\n",
              "2002.0       86.65     11.07    24.92  ...      10.82   65.31     5.51\n",
              "2003.0       67.98      2.12    23.79  ...      21.21   55.96     7.95\n",
              "2004.0       76.15      8.45    16.76  ...      10.89   61.11     7.14\n",
              "2005.0       85.52      8.53    19.68  ...      49.28   59.53     5.34\n",
              "2006.0       66.49     11.48    22.53  ...      21.73  136.12     4.23\n",
              "2007.0      105.99     24.44    17.63  ...      48.85   98.24     9.38\n",
              "2008.0      135.46     24.91    35.41  ...      46.40   95.24    11.70\n",
              "2009.0      138.32     20.67    32.18  ...      33.55  138.59    12.51\n",
              "2010.0      117.50     16.57    14.88  ...      21.90   92.02    13.82\n",
              "2011.0      119.00     15.88    22.11  ...      15.31   57.06     8.87\n",
              "2012.0      120.78      5.90     9.53  ...      13.37   30.90     3.33\n",
              "2013.0      125.21      6.61     7.23  ...       8.68   41.54     6.32\n",
              "2014.0       99.01      6.09    16.15  ...       5.54   46.64     0.97\n",
              "2015.0       68.25      8.01     7.78  ...       5.61   41.49     1.82\n",
              "2016.0       19.84      1.79     3.85  ...       0.39   14.63     0.52\n",
              "2017.0        0.01       NaN      NaN  ...        NaN     NaN      NaN\n",
              "2020.0         NaN       NaN      NaN  ...       0.29     NaN      NaN\n",
              "\n",
              "[39 rows x 12 columns]"
            ]
          },
          "metadata": {
            "tags": []
          },
          "execution_count": 34
        }
      ]
    },
    {
      "cell_type": "code",
      "metadata": {
        "colab": {
          "base_uri": "https://localhost:8080/",
          "height": 887
        },
        "id": "5C72eQ43zn7y",
        "outputId": "57f8fab7-cf9e-4050-9a46-578c51fdd06b"
      },
      "source": [
        "# 키워드 : 상관분석 시각화\n",
        "plt.subplots(figsize=(13, 13))\n",
        "sns.heatmap(Genre_Year_table,  \n",
        "            cmap='YlGnBu', # 파란색과 노란색 계열로 색 변경해줬음. 앞에 그래프와 다른 색을 주고싶었음.\n",
        "            annot=True, # cell에 실제 값을 표시\n",
        "            fmt=\"g\",    # 실수 키워드 : 상관분석 시각화\n",
        "            linewidths=.5)  # cell 사이에 경계선 추가\n",
        "\n",
        "plt.title('게임 장르 기준 년도별 출고량')\n",
        "plt.xticks(rotation = -50) # x축 텍스트 회전\n",
        "plt.xlabel('Genre')\n",
        "plt.ylabel('Year')\n",
        "plt.show()"
      ],
      "execution_count": 35,
      "outputs": [
        {
          "output_type": "display_data",
          "data": {
            "image/png": "[encoded data removed]",
            "text/plain": [
              "<Figure size 936x936 with 2 Axes>"
            ]
          },
          "metadata": {
            "tags": []
          }
        }
      ]
    },
    {
      "cell_type": "code",
      "metadata": {
        "id": "vxTxJxiMw4hK"
      },
      "source": [
        ""
      ],
      "execution_count": null,
      "outputs": []
    },
    {
      "cell_type": "code",
      "metadata": {
        "id": "CUYoJ0ZvaWQZ"
      },
      "source": [
        "# corr 넣어서 상관분석해두자"
      ],
      "execution_count": null,
      "outputs": []
    },
    {
      "cell_type": "markdown",
      "metadata": {
        "id": "RQMFby29Z1VJ"
      },
      "source": [
        "# 2. 연도별 게임의 트렌드가 있을까?\n",
        "\n"
      ]
    },
    {
      "cell_type": "code",
      "metadata": {
        "id": "3cVQvC5K-89y"
      },
      "source": [
        "# 액션 게임은 2000년대 접어들면서 장르별 게임의 출고량이 많아졌음을 알 수 있다.\n",
        "# 그렇다면 매년 게임의 출고량은 변화는 어떻게될까? 알아보자"
      ],
      "execution_count": null,
      "outputs": []
    },
    {
      "cell_type": "code",
      "metadata": {
        "id": "svPBaMfybeyN"
      },
      "source": [
        "# x 축은 년도\n",
        "# y 축은 total_sales\n",
        "plt.subplots(figsize=(13, 13))\n",
        "\n",
        "sns.lineplot(data = data, x = 'Year' , y = 'total_sales', palette=\"Blues_d\")"
      ],
      "execution_count": null,
      "outputs": []
    },
    {
      "cell_type": "code",
      "metadata": {
        "id": "nvRRDUzDdJHx"
      },
      "source": [
        "data['Year'].value_counts()"
      ],
      "execution_count": null,
      "outputs": []
    },
    {
      "cell_type": "code",
      "metadata": {
        "id": "isO6WHd8dpV4"
      },
      "source": [
        "data.groupby(['Year']).count().dtypes"
      ],
      "execution_count": null,
      "outputs": []
    },
    {
      "cell_type": "code",
      "metadata": {
        "id": "C-osCoH14ttT"
      },
      "source": [
        ""
      ],
      "execution_count": null,
      "outputs": []
    },
    {
      "cell_type": "code",
      "metadata": {
        "colab": {
          "base_uri": "https://localhost:8080/",
          "height": 197
        },
        "id": "eRnVbN4ebmEq",
        "outputId": "f361397d-c256-4912-e7b2-81bfe8743e8c"
      },
      "source": [
        "data.head()"
      ],
      "execution_count": 61,
      "outputs": [
        {
          "output_type": "execute_result",
          "data": {
            "text/html": [
              "<div>\n",
              "<style scoped>\n",
              "    .dataframe tbody tr th:only-of-type {\n",
              "        vertical-align: middle;\n",
              "    }\n",
              "\n",
              "    .dataframe tbody tr th {\n",
              "        vertical-align: top;\n",
              "    }\n",
              "\n",
              "    .dataframe thead th {\n",
              "        text-align: right;\n",
              "    }\n",
              "</style>\n",
              "<table border=\"1\" class=\"dataframe\">\n",
              "  <thead>\n",
              "    <tr style=\"text-align: right;\">\n",
              "      <th></th>\n",
              "      <th>Year</th>\n",
              "      <th>Name</th>\n",
              "      <th>Platform</th>\n",
              "      <th>Genre</th>\n",
              "      <th>Publisher</th>\n",
              "      <th>NA_Sales</th>\n",
              "      <th>EU_Sales</th>\n",
              "      <th>JP_Sales</th>\n",
              "      <th>Other_Sales</th>\n",
              "      <th>total_sales</th>\n",
              "    </tr>\n",
              "  </thead>\n",
              "  <tbody>\n",
              "    <tr>\n",
              "      <th>2908</th>\n",
              "      <td>2006.0</td>\n",
              "      <td>Wii Sports</td>\n",
              "      <td>Wii</td>\n",
              "      <td>Sports</td>\n",
              "      <td>Nintendo</td>\n",
              "      <td>41.49</td>\n",
              "      <td>29.02</td>\n",
              "      <td>3.77</td>\n",
              "      <td>8.46</td>\n",
              "      <td>82.74</td>\n",
              "    </tr>\n",
              "    <tr>\n",
              "      <th>4199</th>\n",
              "      <td>1985.0</td>\n",
              "      <td>Super Mario Bros.</td>\n",
              "      <td>NES</td>\n",
              "      <td>Platform</td>\n",
              "      <td>Nintendo</td>\n",
              "      <td>29.08</td>\n",
              "      <td>3.58</td>\n",
              "      <td>6.81</td>\n",
              "      <td>0.77</td>\n",
              "      <td>40.24</td>\n",
              "    </tr>\n",
              "    <tr>\n",
              "      <th>12579</th>\n",
              "      <td>2008.0</td>\n",
              "      <td>Mario Kart Wii</td>\n",
              "      <td>Wii</td>\n",
              "      <td>Racing</td>\n",
              "      <td>Nintendo</td>\n",
              "      <td>15.85</td>\n",
              "      <td>12.88</td>\n",
              "      <td>3.79</td>\n",
              "      <td>3.31</td>\n",
              "      <td>35.83</td>\n",
              "    </tr>\n",
              "    <tr>\n",
              "      <th>3352</th>\n",
              "      <td>2009.0</td>\n",
              "      <td>Wii Sports Resort</td>\n",
              "      <td>Wii</td>\n",
              "      <td>Sports</td>\n",
              "      <td>Nintendo</td>\n",
              "      <td>15.75</td>\n",
              "      <td>11.01</td>\n",
              "      <td>3.28</td>\n",
              "      <td>2.96</td>\n",
              "      <td>33.00</td>\n",
              "    </tr>\n",
              "    <tr>\n",
              "      <th>7829</th>\n",
              "      <td>1996.0</td>\n",
              "      <td>Pokemon Red/Pokemon Blue</td>\n",
              "      <td>GB</td>\n",
              "      <td>Role-Playing</td>\n",
              "      <td>Nintendo</td>\n",
              "      <td>11.27</td>\n",
              "      <td>8.89</td>\n",
              "      <td>10.22</td>\n",
              "      <td>1.00</td>\n",
              "      <td>31.38</td>\n",
              "    </tr>\n",
              "  </tbody>\n",
              "</table>\n",
              "</div>"
            ],
            "text/plain": [
              "         Year                      Name  ... Other_Sales total_sales\n",
              "2908   2006.0                Wii Sports  ...        8.46       82.74\n",
              "4199   1985.0         Super Mario Bros.  ...        0.77       40.24\n",
              "12579  2008.0            Mario Kart Wii  ...        3.31       35.83\n",
              "3352   2009.0         Wii Sports Resort  ...        2.96       33.00\n",
              "7829   1996.0  Pokemon Red/Pokemon Blue  ...        1.00       31.38\n",
              "\n",
              "[5 rows x 10 columns]"
            ]
          },
          "metadata": {
            "tags": []
          },
          "execution_count": 61
        }
      ]
    },
    {
      "cell_type": "code",
      "metadata": {
        "colab": {
          "base_uri": "https://localhost:8080/",
          "height": 467
        },
        "id": "iLpET8P5bzYL",
        "outputId": "81417f2f-4579-40cd-eaaf-89f9c65a2b79"
      },
      "source": [
        "data_cross = pd.crosstab(data.Year, data.Genre).reset_index()\n",
        "data_cross.corr()"
      ],
      "execution_count": 63,
      "outputs": [
        {
          "output_type": "execute_result",
          "data": {
            "text/html": [
              "<div>\n",
              "<style scoped>\n",
              "    .dataframe tbody tr th:only-of-type {\n",
              "        vertical-align: middle;\n",
              "    }\n",
              "\n",
              "    .dataframe tbody tr th {\n",
              "        vertical-align: top;\n",
              "    }\n",
              "\n",
              "    .dataframe thead th {\n",
              "        text-align: right;\n",
              "    }\n",
              "</style>\n",
              "<table border=\"1\" class=\"dataframe\">\n",
              "  <thead>\n",
              "    <tr style=\"text-align: right;\">\n",
              "      <th>Genre</th>\n",
              "      <th>Year</th>\n",
              "      <th>Action</th>\n",
              "      <th>Adventure</th>\n",
              "      <th>Fighting</th>\n",
              "      <th>Misc</th>\n",
              "      <th>Platform</th>\n",
              "      <th>Puzzle</th>\n",
              "      <th>Racing</th>\n",
              "      <th>Role-Playing</th>\n",
              "      <th>Shooter</th>\n",
              "      <th>Simulation</th>\n",
              "      <th>Sports</th>\n",
              "      <th>Strategy</th>\n",
              "    </tr>\n",
              "    <tr>\n",
              "      <th>Genre</th>\n",
              "      <th></th>\n",
              "      <th></th>\n",
              "      <th></th>\n",
              "      <th></th>\n",
              "      <th></th>\n",
              "      <th></th>\n",
              "      <th></th>\n",
              "      <th></th>\n",
              "      <th></th>\n",
              "      <th></th>\n",
              "      <th></th>\n",
              "      <th></th>\n",
              "      <th></th>\n",
              "    </tr>\n",
              "  </thead>\n",
              "  <tbody>\n",
              "    <tr>\n",
              "      <th>Year</th>\n",
              "      <td>1.000000</td>\n",
              "      <td>0.691366</td>\n",
              "      <td>0.586011</td>\n",
              "      <td>0.537135</td>\n",
              "      <td>0.498948</td>\n",
              "      <td>0.385420</td>\n",
              "      <td>0.397332</td>\n",
              "      <td>0.469260</td>\n",
              "      <td>0.692048</td>\n",
              "      <td>0.592982</td>\n",
              "      <td>0.456093</td>\n",
              "      <td>0.529285</td>\n",
              "      <td>0.515083</td>\n",
              "    </tr>\n",
              "    <tr>\n",
              "      <th>Action</th>\n",
              "      <td>0.691366</td>\n",
              "      <td>1.000000</td>\n",
              "      <td>0.859695</td>\n",
              "      <td>0.753390</td>\n",
              "      <td>0.814166</td>\n",
              "      <td>0.577267</td>\n",
              "      <td>0.720122</td>\n",
              "      <td>0.688947</td>\n",
              "      <td>0.949789</td>\n",
              "      <td>0.869883</td>\n",
              "      <td>0.752533</td>\n",
              "      <td>0.790499</td>\n",
              "      <td>0.773600</td>\n",
              "    </tr>\n",
              "    <tr>\n",
              "      <th>Adventure</th>\n",
              "      <td>0.586011</td>\n",
              "      <td>0.859695</td>\n",
              "      <td>1.000000</td>\n",
              "      <td>0.740005</td>\n",
              "      <td>0.944280</td>\n",
              "      <td>0.466870</td>\n",
              "      <td>0.859767</td>\n",
              "      <td>0.622434</td>\n",
              "      <td>0.910170</td>\n",
              "      <td>0.803253</td>\n",
              "      <td>0.900584</td>\n",
              "      <td>0.830064</td>\n",
              "      <td>0.826466</td>\n",
              "    </tr>\n",
              "    <tr>\n",
              "      <th>Fighting</th>\n",
              "      <td>0.537135</td>\n",
              "      <td>0.753390</td>\n",
              "      <td>0.740005</td>\n",
              "      <td>1.000000</td>\n",
              "      <td>0.788879</td>\n",
              "      <td>0.802501</td>\n",
              "      <td>0.792835</td>\n",
              "      <td>0.904424</td>\n",
              "      <td>0.848284</td>\n",
              "      <td>0.896056</td>\n",
              "      <td>0.781710</td>\n",
              "      <td>0.925251</td>\n",
              "      <td>0.896191</td>\n",
              "    </tr>\n",
              "    <tr>\n",
              "      <th>Misc</th>\n",
              "      <td>0.498948</td>\n",
              "      <td>0.814166</td>\n",
              "      <td>0.944280</td>\n",
              "      <td>0.788879</td>\n",
              "      <td>1.000000</td>\n",
              "      <td>0.578774</td>\n",
              "      <td>0.941579</td>\n",
              "      <td>0.714673</td>\n",
              "      <td>0.870107</td>\n",
              "      <td>0.857361</td>\n",
              "      <td>0.953031</td>\n",
              "      <td>0.872991</td>\n",
              "      <td>0.901205</td>\n",
              "    </tr>\n",
              "    <tr>\n",
              "      <th>Platform</th>\n",
              "      <td>0.385420</td>\n",
              "      <td>0.577267</td>\n",
              "      <td>0.466870</td>\n",
              "      <td>0.802501</td>\n",
              "      <td>0.578774</td>\n",
              "      <td>1.000000</td>\n",
              "      <td>0.550809</td>\n",
              "      <td>0.907223</td>\n",
              "      <td>0.633947</td>\n",
              "      <td>0.838182</td>\n",
              "      <td>0.564951</td>\n",
              "      <td>0.811673</td>\n",
              "      <td>0.682411</td>\n",
              "    </tr>\n",
              "    <tr>\n",
              "      <th>Puzzle</th>\n",
              "      <td>0.397332</td>\n",
              "      <td>0.720122</td>\n",
              "      <td>0.859767</td>\n",
              "      <td>0.792835</td>\n",
              "      <td>0.941579</td>\n",
              "      <td>0.550809</td>\n",
              "      <td>1.000000</td>\n",
              "      <td>0.726771</td>\n",
              "      <td>0.802666</td>\n",
              "      <td>0.799475</td>\n",
              "      <td>0.966307</td>\n",
              "      <td>0.860214</td>\n",
              "      <td>0.909422</td>\n",
              "    </tr>\n",
              "    <tr>\n",
              "      <th>Racing</th>\n",
              "      <td>0.469260</td>\n",
              "      <td>0.688947</td>\n",
              "      <td>0.622434</td>\n",
              "      <td>0.904424</td>\n",
              "      <td>0.714673</td>\n",
              "      <td>0.907223</td>\n",
              "      <td>0.726771</td>\n",
              "      <td>1.000000</td>\n",
              "      <td>0.750900</td>\n",
              "      <td>0.876327</td>\n",
              "      <td>0.737736</td>\n",
              "      <td>0.931591</td>\n",
              "      <td>0.854622</td>\n",
              "    </tr>\n",
              "    <tr>\n",
              "      <th>Role-Playing</th>\n",
              "      <td>0.692048</td>\n",
              "      <td>0.949789</td>\n",
              "      <td>0.910170</td>\n",
              "      <td>0.848284</td>\n",
              "      <td>0.870107</td>\n",
              "      <td>0.633947</td>\n",
              "      <td>0.802666</td>\n",
              "      <td>0.750900</td>\n",
              "      <td>1.000000</td>\n",
              "      <td>0.902598</td>\n",
              "      <td>0.829082</td>\n",
              "      <td>0.866534</td>\n",
              "      <td>0.853135</td>\n",
              "    </tr>\n",
              "    <tr>\n",
              "      <th>Shooter</th>\n",
              "      <td>0.592982</td>\n",
              "      <td>0.869883</td>\n",
              "      <td>0.803253</td>\n",
              "      <td>0.896056</td>\n",
              "      <td>0.857361</td>\n",
              "      <td>0.838182</td>\n",
              "      <td>0.799475</td>\n",
              "      <td>0.876327</td>\n",
              "      <td>0.902598</td>\n",
              "      <td>1.000000</td>\n",
              "      <td>0.798044</td>\n",
              "      <td>0.913031</td>\n",
              "      <td>0.869337</td>\n",
              "    </tr>\n",
              "    <tr>\n",
              "      <th>Simulation</th>\n",
              "      <td>0.456093</td>\n",
              "      <td>0.752533</td>\n",
              "      <td>0.900584</td>\n",
              "      <td>0.781710</td>\n",
              "      <td>0.953031</td>\n",
              "      <td>0.564951</td>\n",
              "      <td>0.966307</td>\n",
              "      <td>0.737736</td>\n",
              "      <td>0.829082</td>\n",
              "      <td>0.798044</td>\n",
              "      <td>1.000000</td>\n",
              "      <td>0.874446</td>\n",
              "      <td>0.916164</td>\n",
              "    </tr>\n",
              "    <tr>\n",
              "      <th>Sports</th>\n",
              "      <td>0.529285</td>\n",
              "      <td>0.790499</td>\n",
              "      <td>0.830064</td>\n",
              "      <td>0.925251</td>\n",
              "      <td>0.872991</td>\n",
              "      <td>0.811673</td>\n",
              "      <td>0.860214</td>\n",
              "      <td>0.931591</td>\n",
              "      <td>0.866534</td>\n",
              "      <td>0.913031</td>\n",
              "      <td>0.874446</td>\n",
              "      <td>1.000000</td>\n",
              "      <td>0.917278</td>\n",
              "    </tr>\n",
              "    <tr>\n",
              "      <th>Strategy</th>\n",
              "      <td>0.515083</td>\n",
              "      <td>0.773600</td>\n",
              "      <td>0.826466</td>\n",
              "      <td>0.896191</td>\n",
              "      <td>0.901205</td>\n",
              "      <td>0.682411</td>\n",
              "      <td>0.909422</td>\n",
              "      <td>0.854622</td>\n",
              "      <td>0.853135</td>\n",
              "      <td>0.869337</td>\n",
              "      <td>0.916164</td>\n",
              "      <td>0.917278</td>\n",
              "      <td>1.000000</td>\n",
              "    </tr>\n",
              "  </tbody>\n",
              "</table>\n",
              "</div>"
            ],
            "text/plain": [
              "Genre             Year    Action  Adventure  ...  Simulation    Sports  Strategy\n",
              "Genre                                        ...                                \n",
              "Year          1.000000  0.691366   0.586011  ...    0.456093  0.529285  0.515083\n",
              "Action        0.691366  1.000000   0.859695  ...    0.752533  0.790499  0.773600\n",
              "Adventure     0.586011  0.859695   1.000000  ...    0.900584  0.830064  0.826466\n",
              "Fighting      0.537135  0.753390   0.740005  ...    0.781710  0.925251  0.896191\n",
              "Misc          0.498948  0.814166   0.944280  ...    0.953031  0.872991  0.901205\n",
              "Platform      0.385420  0.577267   0.466870  ...    0.564951  0.811673  0.682411\n",
              "Puzzle        0.397332  0.720122   0.859767  ...    0.966307  0.860214  0.909422\n",
              "Racing        0.469260  0.688947   0.622434  ...    0.737736  0.931591  0.854622\n",
              "Role-Playing  0.692048  0.949789   0.910170  ...    0.829082  0.866534  0.853135\n",
              "Shooter       0.592982  0.869883   0.803253  ...    0.798044  0.913031  0.869337\n",
              "Simulation    0.456093  0.752533   0.900584  ...    1.000000  0.874446  0.916164\n",
              "Sports        0.529285  0.790499   0.830064  ...    0.874446  1.000000  0.917278\n",
              "Strategy      0.515083  0.773600   0.826466  ...    0.916164  0.917278  1.000000\n",
              "\n",
              "[13 rows x 13 columns]"
            ]
          },
          "metadata": {
            "tags": []
          },
          "execution_count": 63
        }
      ]
    },
    {
      "cell_type": "code",
      "metadata": {
        "id": "_LOgFFBpcuoK"
      },
      "source": [
        "# cross로 상관분석을 해보자\n",
        "#이거로 그래프 그리자!!!"
      ],
      "execution_count": 64,
      "outputs": []
    },
    {
      "cell_type": "code",
      "metadata": {
        "id": "ouC39wtBcwOj"
      },
      "source": [
        "#p = data.groupby(['Genre','Year']).sum()['total_sales'].sort_values(ascending = False).reset_index()"
      ],
      "execution_count": 96,
      "outputs": []
    },
    {
      "cell_type": "code",
      "metadata": {
        "id": "cduM86JQi-C9"
      },
      "source": [
        "p = data.groupby(['Genre','Year']).sum()['total_sales'].reset_index()"
      ],
      "execution_count": 127,
      "outputs": []
    },
    {
      "cell_type": "code",
      "metadata": {
        "id": "VNBaegWUg6-h"
      },
      "source": [
        "p  = pd.DataFrame(p)\n",
        "\n",
        "cond = (p['Genre'] == 'Action')\n",
        "p = p[cond]"
      ],
      "execution_count": 132,
      "outputs": []
    },
    {
      "cell_type": "code",
      "metadata": {
        "id": "ZMY_rJzojkPZ"
      },
      "source": [
        ""
      ],
      "execution_count": null,
      "outputs": []
    },
    {
      "cell_type": "code",
      "metadata": {
        "colab": {
          "base_uri": "https://localhost:8080/",
          "height": 901
        },
        "id": "p9E2ilO3gU7x",
        "outputId": "8e5c0713-576f-46e5-ae74-55397ec0622e"
      },
      "source": [
        "import seaborn as sns\n",
        "plt.subplots(figsize=(20, 15))\n",
        "sns.lineplot(data = p, x = 'Year', y = 'total_sales', hue = 'Genre')\n"
      ],
      "execution_count": 133,
      "outputs": [
        {
          "output_type": "execute_result",
          "data": {
            "text/plain": [
              "<matplotlib.axes._subplots.AxesSubplot at 0x7f19aba74210>"
            ]
          },
          "metadata": {
            "tags": []
          },
          "execution_count": 133
        },
        {
          "output_type": "display_data",
          "data": {
            "image/png": "[encoded data removed]",
            "text/plain": [
              "<Figure size 1440x1080 with 1 Axes>"
            ]
          },
          "metadata": {
            "tags": []
          }
        }
      ]
    },
    {
      "cell_type": "code",
      "metadata": {
        "colab": {
          "base_uri": "https://localhost:8080/",
          "height": 170
        },
        "id": "Bx2zyanIhmgX",
        "outputId": "f4d8222e-ebc2-4302-8c52-d5c0efe2b242"
      },
      "source": [
        "data"
      ],
      "execution_count": 2,
      "outputs": [
        {
          "output_type": "error",
          "ename": "NameError",
          "evalue": "ignored",
          "traceback": [
            "\u001b[0;31m---------------------------------------------------------------------------\u001b[0m",
            "\u001b[0;31mNameError\u001b[0m                                 Traceback (most recent call last)",
            "\u001b[0;32m<ipython-input-2-c5d84736ba45>\u001b[0m in \u001b[0;36m<module>\u001b[0;34m()\u001b[0m\n\u001b[0;32m----> 1\u001b[0;31m \u001b[0mdata\u001b[0m\u001b[0;34m\u001b[0m\u001b[0;34m\u001b[0m\u001b[0m\n\u001b[0m",
            "\u001b[0;31mNameError\u001b[0m: name 'data' is not defined"
          ]
        }
      ]
    }
  ]
}